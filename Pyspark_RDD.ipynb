{
  "nbformat": 4,
  "nbformat_minor": 0,
  "metadata": {
    "colab": {
      "name": "Pyspark-RDD.ipynb",
      "provenance": [],
      "authorship_tag": "ABX9TyNj7SOfk4GB1uquJhi/tTxP",
      "include_colab_link": true
    },
    "kernelspec": {
      "name": "python3",
      "display_name": "Python 3"
    }
  },
  "cells": [
    {
      "cell_type": "markdown",
      "metadata": {
        "id": "view-in-github",
        "colab_type": "text"
      },
      "source": [
        "<a href=\"https://colab.research.google.com/github/sathishnaveena-ecommerce/flipkart/blob/master/Pyspark_RDD.ipynb\" target=\"_parent\"><img src=\"https://colab.research.google.com/assets/colab-badge.svg\" alt=\"Open In Colab\"/></a>"
      ]
    },
    {
      "cell_type": "code",
      "metadata": {
        "id": "hpFAK95a4F0V",
        "colab_type": "code",
        "colab": {}
      },
      "source": [
        "!apt-get install openjdk-8-jdk-headless -qq > /dev/null"
      ],
      "execution_count": 0,
      "outputs": []
    },
    {
      "cell_type": "code",
      "metadata": {
        "id": "sNuq2Gyj67_H",
        "colab_type": "code",
        "colab": {}
      },
      "source": [
        "!wget -q http://mirrors.estointernet.in/apache/spark/spark-2.4.5/spark-2.4.5-bin-hadoop2.7.tgz"
      ],
      "execution_count": 0,
      "outputs": []
    },
    {
      "cell_type": "code",
      "metadata": {
        "id": "ZreKbXZN7MGh",
        "colab_type": "code",
        "outputId": "a80961c7-3246-432a-c700-b5a2f27e6ee5",
        "colab": {
          "base_uri": "https://localhost:8080/",
          "height": 34
        }
      },
      "source": [
        "!ls\n"
      ],
      "execution_count": 21,
      "outputs": [
        {
          "output_type": "stream",
          "text": [
            "retailstore.csv  sample_data  spark-2.4.5-bin-hadoop2.7.tgz\n"
          ],
          "name": "stdout"
        }
      ]
    },
    {
      "cell_type": "code",
      "metadata": {
        "id": "1hZqTOcL7MJh",
        "colab_type": "code",
        "outputId": "a962ce2c-2667-4095-c910-4580d8b21fa9",
        "colab": {
          "base_uri": "https://localhost:8080/",
          "height": 1000
        }
      },
      "source": [
        "!tar -xvf spark-2.4.5-bin-hadoop2.7.tgz"
      ],
      "execution_count": 22,
      "outputs": [
        {
          "output_type": "stream",
          "text": [
            "spark-2.4.5-bin-hadoop2.7/\n",
            "spark-2.4.5-bin-hadoop2.7/licenses/\n",
            "spark-2.4.5-bin-hadoop2.7/licenses/LICENSE-jtransforms.html\n",
            "spark-2.4.5-bin-hadoop2.7/licenses/LICENSE-zstd.txt\n",
            "spark-2.4.5-bin-hadoop2.7/licenses/LICENSE-zstd-jni.txt\n",
            "spark-2.4.5-bin-hadoop2.7/licenses/LICENSE-xmlenc.txt\n",
            "spark-2.4.5-bin-hadoop2.7/licenses/LICENSE-vis.txt\n",
            "spark-2.4.5-bin-hadoop2.7/licenses/LICENSE-spire.txt\n",
            "spark-2.4.5-bin-hadoop2.7/licenses/LICENSE-sorttable.js.txt\n",
            "spark-2.4.5-bin-hadoop2.7/licenses/LICENSE-slf4j.txt\n",
            "spark-2.4.5-bin-hadoop2.7/licenses/LICENSE-scopt.txt\n",
            "spark-2.4.5-bin-hadoop2.7/licenses/LICENSE-scala.txt\n",
            "spark-2.4.5-bin-hadoop2.7/licenses/LICENSE-sbt-launch-lib.txt\n",
            "spark-2.4.5-bin-hadoop2.7/licenses/LICENSE-respond.txt\n",
            "spark-2.4.5-bin-hadoop2.7/licenses/LICENSE-reflectasm.txt\n",
            "spark-2.4.5-bin-hadoop2.7/licenses/LICENSE-pyrolite.txt\n",
            "spark-2.4.5-bin-hadoop2.7/licenses/LICENSE-py4j.txt\n",
            "spark-2.4.5-bin-hadoop2.7/licenses/LICENSE-protobuf.txt\n",
            "spark-2.4.5-bin-hadoop2.7/licenses/LICENSE-pmml-model.txt\n",
            "spark-2.4.5-bin-hadoop2.7/licenses/LICENSE-paranamer.txt\n",
            "spark-2.4.5-bin-hadoop2.7/licenses/LICENSE-netlib.txt\n",
            "spark-2.4.5-bin-hadoop2.7/licenses/LICENSE-mustache.txt\n",
            "spark-2.4.5-bin-hadoop2.7/licenses/LICENSE-modernizr.txt\n",
            "spark-2.4.5-bin-hadoop2.7/licenses/LICENSE-minlog.txt\n",
            "spark-2.4.5-bin-hadoop2.7/licenses/LICENSE-matchMedia-polyfill.txt\n",
            "spark-2.4.5-bin-hadoop2.7/licenses/LICENSE-machinist.txt\n",
            "spark-2.4.5-bin-hadoop2.7/licenses/LICENSE-leveldbjni.txt\n",
            "spark-2.4.5-bin-hadoop2.7/licenses/LICENSE-kryo.txt\n",
            "spark-2.4.5-bin-hadoop2.7/licenses/LICENSE-json-formatter.txt\n",
            "spark-2.4.5-bin-hadoop2.7/licenses/LICENSE-jquery.txt\n",
            "spark-2.4.5-bin-hadoop2.7/licenses/LICENSE-join.txt\n",
            "spark-2.4.5-bin-hadoop2.7/licenses/LICENSE-jodd.txt\n",
            "spark-2.4.5-bin-hadoop2.7/licenses/LICENSE-jline.txt\n",
            "spark-2.4.5-bin-hadoop2.7/licenses/LICENSE-javolution.txt\n",
            "spark-2.4.5-bin-hadoop2.7/licenses/LICENSE-javassist.html\n",
            "spark-2.4.5-bin-hadoop2.7/licenses/LICENSE-janino.txt\n",
            "spark-2.4.5-bin-hadoop2.7/licenses/LICENSE-heapq.txt\n",
            "spark-2.4.5-bin-hadoop2.7/licenses/LICENSE-graphlib-dot.txt\n",
            "spark-2.4.5-bin-hadoop2.7/licenses/LICENSE-f2j.txt\n",
            "spark-2.4.5-bin-hadoop2.7/licenses/LICENSE-datatables.txt\n",
            "spark-2.4.5-bin-hadoop2.7/licenses/LICENSE-dagre-d3.txt\n",
            "spark-2.4.5-bin-hadoop2.7/licenses/LICENSE-d3.min.js.txt\n",
            "spark-2.4.5-bin-hadoop2.7/licenses/LICENSE-cloudpickle.txt\n",
            "spark-2.4.5-bin-hadoop2.7/licenses/LICENSE-bootstrap.txt\n",
            "spark-2.4.5-bin-hadoop2.7/licenses/LICENSE-automaton.txt\n",
            "spark-2.4.5-bin-hadoop2.7/licenses/LICENSE-arpack.txt\n",
            "spark-2.4.5-bin-hadoop2.7/licenses/LICENSE-antlr.txt\n",
            "spark-2.4.5-bin-hadoop2.7/licenses/LICENSE-CC0.txt\n",
            "spark-2.4.5-bin-hadoop2.7/licenses/LICENSE-AnchorJS.txt\n",
            "spark-2.4.5-bin-hadoop2.7/LICENSE\n",
            "spark-2.4.5-bin-hadoop2.7/examples/\n",
            "spark-2.4.5-bin-hadoop2.7/examples/jars/\n",
            "spark-2.4.5-bin-hadoop2.7/examples/jars/spark-examples_2.11-2.4.5.jar\n",
            "spark-2.4.5-bin-hadoop2.7/examples/jars/scopt_2.11-3.7.0.jar\n",
            "spark-2.4.5-bin-hadoop2.7/examples/src/\n",
            "spark-2.4.5-bin-hadoop2.7/examples/src/main/\n",
            "spark-2.4.5-bin-hadoop2.7/examples/src/main/java/\n",
            "spark-2.4.5-bin-hadoop2.7/examples/src/main/java/org/\n",
            "spark-2.4.5-bin-hadoop2.7/examples/src/main/java/org/apache/\n",
            "spark-2.4.5-bin-hadoop2.7/examples/src/main/java/org/apache/spark/\n",
            "spark-2.4.5-bin-hadoop2.7/examples/src/main/java/org/apache/spark/examples/\n",
            "spark-2.4.5-bin-hadoop2.7/examples/src/main/java/org/apache/spark/examples/mllib/\n",
            "spark-2.4.5-bin-hadoop2.7/examples/src/main/java/org/apache/spark/examples/mllib/JavaRecommendationExample.java\n",
            "spark-2.4.5-bin-hadoop2.7/examples/src/main/java/org/apache/spark/examples/mllib/JavaRandomForestRegressionExample.java\n",
            "spark-2.4.5-bin-hadoop2.7/examples/src/main/java/org/apache/spark/examples/mllib/JavaPrefixSpanExample.java\n",
            "spark-2.4.5-bin-hadoop2.7/examples/src/main/java/org/apache/spark/examples/mllib/JavaPowerIterationClusteringExample.java\n",
            "spark-2.4.5-bin-hadoop2.7/examples/src/main/java/org/apache/spark/examples/mllib/JavaPCAExample.java\n",
            "spark-2.4.5-bin-hadoop2.7/examples/src/main/java/org/apache/spark/examples/mllib/JavaNaiveBayesExample.java\n",
            "spark-2.4.5-bin-hadoop2.7/examples/src/main/java/org/apache/spark/examples/mllib/JavaMulticlassClassificationMetricsExample.java\n",
            "spark-2.4.5-bin-hadoop2.7/examples/src/main/java/org/apache/spark/examples/mllib/JavaMultiLabelClassificationMetricsExample.java\n",
            "spark-2.4.5-bin-hadoop2.7/examples/src/main/java/org/apache/spark/examples/mllib/JavaLogisticRegressionWithLBFGSExample.java\n",
            "spark-2.4.5-bin-hadoop2.7/examples/src/main/java/org/apache/spark/examples/mllib/JavaLatentDirichletAllocationExample.java\n",
            "spark-2.4.5-bin-hadoop2.7/examples/src/main/java/org/apache/spark/examples/mllib/JavaLBFGSExample.java\n",
            "spark-2.4.5-bin-hadoop2.7/examples/src/main/java/org/apache/spark/examples/mllib/JavaKernelDensityEstimationExample.java\n",
            "spark-2.4.5-bin-hadoop2.7/examples/src/main/java/org/apache/spark/examples/mllib/JavaKMeansExample.java\n",
            "spark-2.4.5-bin-hadoop2.7/examples/src/main/java/org/apache/spark/examples/mllib/JavaIsotonicRegressionExample.java\n",
            "spark-2.4.5-bin-hadoop2.7/examples/src/main/java/org/apache/spark/examples/mllib/JavaHypothesisTestingKolmogorovSmirnovTestExample.java\n",
            "spark-2.4.5-bin-hadoop2.7/examples/src/main/java/org/apache/spark/examples/mllib/JavaHypothesisTestingExample.java\n",
            "spark-2.4.5-bin-hadoop2.7/examples/src/main/java/org/apache/spark/examples/mllib/JavaGradientBoostingRegressionExample.java\n",
            "spark-2.4.5-bin-hadoop2.7/examples/src/main/java/org/apache/spark/examples/mllib/JavaGradientBoostingClassificationExample.java\n",
            "spark-2.4.5-bin-hadoop2.7/examples/src/main/java/org/apache/spark/examples/mllib/JavaGaussianMixtureExample.java\n",
            "spark-2.4.5-bin-hadoop2.7/examples/src/main/java/org/apache/spark/examples/mllib/JavaElementwiseProductExample.java\n",
            "spark-2.4.5-bin-hadoop2.7/examples/src/main/java/org/apache/spark/examples/mllib/JavaDecisionTreeRegressionExample.java\n",
            "spark-2.4.5-bin-hadoop2.7/examples/src/main/java/org/apache/spark/examples/mllib/JavaDecisionTreeClassificationExample.java\n",
            "spark-2.4.5-bin-hadoop2.7/examples/src/main/java/org/apache/spark/examples/mllib/JavaChiSqSelectorExample.java\n",
            "spark-2.4.5-bin-hadoop2.7/examples/src/main/java/org/apache/spark/examples/mllib/JavaBisectingKMeansExample.java\n",
            "spark-2.4.5-bin-hadoop2.7/examples/src/main/java/org/apache/spark/examples/mllib/JavaBinaryClassificationMetricsExample.java\n",
            "spark-2.4.5-bin-hadoop2.7/examples/src/main/java/org/apache/spark/examples/mllib/JavaAssociationRulesExample.java\n",
            "spark-2.4.5-bin-hadoop2.7/examples/src/main/java/org/apache/spark/examples/mllib/JavaALS.java\n",
            "spark-2.4.5-bin-hadoop2.7/examples/src/main/java/org/apache/spark/examples/mllib/JavaRegressionMetricsExample.java\n",
            "spark-2.4.5-bin-hadoop2.7/examples/src/main/java/org/apache/spark/examples/mllib/JavaRankingMetricsExample.java\n",
            "spark-2.4.5-bin-hadoop2.7/examples/src/main/java/org/apache/spark/examples/mllib/JavaRandomForestClassificationExample.java\n",
            "spark-2.4.5-bin-hadoop2.7/examples/src/main/java/org/apache/spark/examples/mllib/JavaLinearRegressionWithSGDExample.java\n",
            "spark-2.4.5-bin-hadoop2.7/examples/src/main/java/org/apache/spark/examples/mllib/JavaCorrelationsExample.java\n",
            "spark-2.4.5-bin-hadoop2.7/examples/src/main/java/org/apache/spark/examples/mllib/JavaSummaryStatisticsExample.java\n",
            "spark-2.4.5-bin-hadoop2.7/examples/src/main/java/org/apache/spark/examples/mllib/JavaStreamingTestExample.java\n",
            "spark-2.4.5-bin-hadoop2.7/examples/src/main/java/org/apache/spark/examples/mllib/JavaStratifiedSamplingExample.java\n",
            "spark-2.4.5-bin-hadoop2.7/examples/src/main/java/org/apache/spark/examples/mllib/JavaSimpleFPGrowth.java\n",
            "spark-2.4.5-bin-hadoop2.7/examples/src/main/java/org/apache/spark/examples/mllib/JavaSVMWithSGDExample.java\n",
            "spark-2.4.5-bin-hadoop2.7/examples/src/main/java/org/apache/spark/examples/mllib/JavaSVDExample.java\n",
            "spark-2.4.5-bin-hadoop2.7/examples/src/main/java/org/apache/spark/examples/ml/\n",
            "spark-2.4.5-bin-hadoop2.7/examples/src/main/java/org/apache/spark/examples/ml/JavaRandomForestClassifierExample.java\n",
            "spark-2.4.5-bin-hadoop2.7/examples/src/main/java/org/apache/spark/examples/ml/JavaPrefixSpanExample.java\n",
            "spark-2.4.5-bin-hadoop2.7/examples/src/main/java/org/apache/spark/examples/ml/JavaOneHotEncoderEstimatorExample.java\n",
            "spark-2.4.5-bin-hadoop2.7/examples/src/main/java/org/apache/spark/examples/ml/JavaGradientBoostedTreeClassifierExample.java\n",
            "spark-2.4.5-bin-hadoop2.7/examples/src/main/java/org/apache/spark/examples/ml/JavaDecisionTreeClassificationExample.java\n",
            "spark-2.4.5-bin-hadoop2.7/examples/src/main/java/org/apache/spark/examples/ml/JavaBisectingKMeansExample.java\n",
            "spark-2.4.5-bin-hadoop2.7/examples/src/main/java/org/apache/spark/examples/ml/JavaALSExample.java\n",
            "spark-2.4.5-bin-hadoop2.7/examples/src/main/java/org/apache/spark/examples/ml/JavaWord2VecExample.java\n",
            "spark-2.4.5-bin-hadoop2.7/examples/src/main/java/org/apache/spark/examples/ml/JavaVectorSlicerExample.java\n",
            "spark-2.4.5-bin-hadoop2.7/examples/src/main/java/org/apache/spark/examples/ml/JavaVectorSizeHintExample.java\n",
            "spark-2.4.5-bin-hadoop2.7/examples/src/main/java/org/apache/spark/examples/ml/JavaVectorIndexerExample.java\n",
            "spark-2.4.5-bin-hadoop2.7/examples/src/main/java/org/apache/spark/examples/ml/JavaVectorAssemblerExample.java\n",
            "spark-2.4.5-bin-hadoop2.7/examples/src/main/java/org/apache/spark/examples/ml/JavaTokenizerExample.java\n",
            "spark-2.4.5-bin-hadoop2.7/examples/src/main/java/org/apache/spark/examples/ml/JavaTfIdfExample.java\n",
            "spark-2.4.5-bin-hadoop2.7/examples/src/main/java/org/apache/spark/examples/ml/JavaSummarizerExample.java\n",
            "spark-2.4.5-bin-hadoop2.7/examples/src/main/java/org/apache/spark/examples/ml/JavaStringIndexerExample.java\n",
            "spark-2.4.5-bin-hadoop2.7/examples/src/main/java/org/apache/spark/examples/ml/JavaStopWordsRemoverExample.java\n",
            "spark-2.4.5-bin-hadoop2.7/examples/src/main/java/org/apache/spark/examples/ml/JavaStandardScalerExample.java\n",
            "spark-2.4.5-bin-hadoop2.7/examples/src/main/java/org/apache/spark/examples/ml/JavaSQLTransformerExample.java\n",
            "spark-2.4.5-bin-hadoop2.7/examples/src/main/java/org/apache/spark/examples/ml/JavaRandomForestRegressorExample.java\n",
            "spark-2.4.5-bin-hadoop2.7/examples/src/main/java/org/apache/spark/examples/ml/JavaRFormulaExample.java\n",
            "spark-2.4.5-bin-hadoop2.7/examples/src/main/java/org/apache/spark/examples/ml/JavaQuantileDiscretizerExample.java\n",
            "spark-2.4.5-bin-hadoop2.7/examples/src/main/java/org/apache/spark/examples/ml/JavaPowerIterationClusteringExample.java\n",
            "spark-2.4.5-bin-hadoop2.7/examples/src/main/java/org/apache/spark/examples/ml/JavaPolynomialExpansionExample.java\n",
            "spark-2.4.5-bin-hadoop2.7/examples/src/main/java/org/apache/spark/examples/ml/JavaPipelineExample.java\n",
            "spark-2.4.5-bin-hadoop2.7/examples/src/main/java/org/apache/spark/examples/ml/JavaPCAExample.java\n",
            "spark-2.4.5-bin-hadoop2.7/examples/src/main/java/org/apache/spark/examples/ml/JavaOneVsRestExample.java\n",
            "spark-2.4.5-bin-hadoop2.7/examples/src/main/java/org/apache/spark/examples/ml/JavaNormalizerExample.java\n",
            "spark-2.4.5-bin-hadoop2.7/examples/src/main/java/org/apache/spark/examples/ml/JavaNaiveBayesExample.java\n",
            "spark-2.4.5-bin-hadoop2.7/examples/src/main/java/org/apache/spark/examples/ml/JavaNGramExample.java\n",
            "spark-2.4.5-bin-hadoop2.7/examples/src/main/java/org/apache/spark/examples/ml/JavaMultilayerPerceptronClassifierExample.java\n",
            "spark-2.4.5-bin-hadoop2.7/examples/src/main/java/org/apache/spark/examples/ml/JavaMulticlassLogisticRegressionWithElasticNetExample.java\n",
            "spark-2.4.5-bin-hadoop2.7/examples/src/main/java/org/apache/spark/examples/ml/JavaModelSelectionViaTrainValidationSplitExample.java\n",
            "spark-2.4.5-bin-hadoop2.7/examples/src/main/java/org/apache/spark/examples/ml/JavaModelSelectionViaCrossValidationExample.java\n",
            "spark-2.4.5-bin-hadoop2.7/examples/src/main/java/org/apache/spark/examples/ml/JavaMinMaxScalerExample.java\n",
            "spark-2.4.5-bin-hadoop2.7/examples/src/main/java/org/apache/spark/examples/ml/JavaMinHashLSHExample.java\n",
            "spark-2.4.5-bin-hadoop2.7/examples/src/main/java/org/apache/spark/examples/ml/JavaMaxAbsScalerExample.java\n",
            "spark-2.4.5-bin-hadoop2.7/examples/src/main/java/org/apache/spark/examples/ml/JavaLogisticRegressionWithElasticNetExample.java\n",
            "spark-2.4.5-bin-hadoop2.7/examples/src/main/java/org/apache/spark/examples/ml/JavaLogisticRegressionSummaryExample.java\n",
            "spark-2.4.5-bin-hadoop2.7/examples/src/main/java/org/apache/spark/examples/ml/JavaLinearSVCExample.java\n",
            "spark-2.4.5-bin-hadoop2.7/examples/src/main/java/org/apache/spark/examples/ml/JavaLinearRegressionWithElasticNetExample.java\n",
            "spark-2.4.5-bin-hadoop2.7/examples/src/main/java/org/apache/spark/examples/ml/JavaLabeledDocument.java\n",
            "spark-2.4.5-bin-hadoop2.7/examples/src/main/java/org/apache/spark/examples/ml/JavaLDAExample.java\n",
            "spark-2.4.5-bin-hadoop2.7/examples/src/main/java/org/apache/spark/examples/ml/JavaKMeansExample.java\n",
            "spark-2.4.5-bin-hadoop2.7/examples/src/main/java/org/apache/spark/examples/ml/JavaIsotonicRegressionExample.java\n",
            "spark-2.4.5-bin-hadoop2.7/examples/src/main/java/org/apache/spark/examples/ml/JavaInteractionExample.java\n",
            "spark-2.4.5-bin-hadoop2.7/examples/src/main/java/org/apache/spark/examples/ml/JavaIndexToStringExample.java\n",
            "spark-2.4.5-bin-hadoop2.7/examples/src/main/java/org/apache/spark/examples/ml/JavaImputerExample.java\n",
            "spark-2.4.5-bin-hadoop2.7/examples/src/main/java/org/apache/spark/examples/ml/JavaGradientBoostedTreeRegressorExample.java\n",
            "spark-2.4.5-bin-hadoop2.7/examples/src/main/java/org/apache/spark/examples/ml/JavaGeneralizedLinearRegressionExample.java\n",
            "spark-2.4.5-bin-hadoop2.7/examples/src/main/java/org/apache/spark/examples/ml/JavaGaussianMixtureExample.java\n",
            "spark-2.4.5-bin-hadoop2.7/examples/src/main/java/org/apache/spark/examples/ml/JavaFeatureHasherExample.java\n",
            "spark-2.4.5-bin-hadoop2.7/examples/src/main/java/org/apache/spark/examples/ml/JavaFPGrowthExample.java\n",
            "spark-2.4.5-bin-hadoop2.7/examples/src/main/java/org/apache/spark/examples/ml/JavaEstimatorTransformerParamExample.java\n",
            "spark-2.4.5-bin-hadoop2.7/examples/src/main/java/org/apache/spark/examples/ml/JavaElementwiseProductExample.java\n",
            "spark-2.4.5-bin-hadoop2.7/examples/src/main/java/org/apache/spark/examples/ml/JavaDocument.java\n",
            "spark-2.4.5-bin-hadoop2.7/examples/src/main/java/org/apache/spark/examples/ml/JavaDecisionTreeRegressionExample.java\n",
            "spark-2.4.5-bin-hadoop2.7/examples/src/main/java/org/apache/spark/examples/ml/JavaDCTExample.java\n",
            "spark-2.4.5-bin-hadoop2.7/examples/src/main/java/org/apache/spark/examples/ml/JavaCountVectorizerExample.java\n",
            "spark-2.4.5-bin-hadoop2.7/examples/src/main/java/org/apache/spark/examples/ml/JavaCorrelationExample.java\n",
            "spark-2.4.5-bin-hadoop2.7/examples/src/main/java/org/apache/spark/examples/ml/JavaChiSquareTestExample.java\n",
            "spark-2.4.5-bin-hadoop2.7/examples/src/main/java/org/apache/spark/examples/ml/JavaChiSqSelectorExample.java\n",
            "spark-2.4.5-bin-hadoop2.7/examples/src/main/java/org/apache/spark/examples/ml/JavaBucketizerExample.java\n",
            "spark-2.4.5-bin-hadoop2.7/examples/src/main/java/org/apache/spark/examples/ml/JavaBucketedRandomProjectionLSHExample.java\n",
            "spark-2.4.5-bin-hadoop2.7/examples/src/main/java/org/apache/spark/examples/ml/JavaBinarizerExample.java\n",
            "spark-2.4.5-bin-hadoop2.7/examples/src/main/java/org/apache/spark/examples/ml/JavaAFTSurvivalRegressionExample.java\n",
            "spark-2.4.5-bin-hadoop2.7/examples/src/main/java/org/apache/spark/examples/JavaWordCount.java\n",
            "spark-2.4.5-bin-hadoop2.7/examples/src/main/java/org/apache/spark/examples/JavaStatusTrackerDemo.java\n",
            "spark-2.4.5-bin-hadoop2.7/examples/src/main/java/org/apache/spark/examples/JavaSparkPi.java\n",
            "spark-2.4.5-bin-hadoop2.7/examples/src/main/java/org/apache/spark/examples/JavaPageRank.java\n",
            "spark-2.4.5-bin-hadoop2.7/examples/src/main/java/org/apache/spark/examples/JavaLogQuery.java\n",
            "spark-2.4.5-bin-hadoop2.7/examples/src/main/java/org/apache/spark/examples/JavaHdfsLR.java\n",
            "spark-2.4.5-bin-hadoop2.7/examples/src/main/java/org/apache/spark/examples/JavaTC.java\n",
            "spark-2.4.5-bin-hadoop2.7/examples/src/main/java/org/apache/spark/examples/streaming/\n",
            "spark-2.4.5-bin-hadoop2.7/examples/src/main/java/org/apache/spark/examples/streaming/JavaStatefulNetworkWordCount.java\n",
            "spark-2.4.5-bin-hadoop2.7/examples/src/main/java/org/apache/spark/examples/streaming/JavaSqlNetworkWordCount.java\n",
            "spark-2.4.5-bin-hadoop2.7/examples/src/main/java/org/apache/spark/examples/streaming/JavaRecoverableNetworkWordCount.java\n",
            "spark-2.4.5-bin-hadoop2.7/examples/src/main/java/org/apache/spark/examples/streaming/JavaRecord.java\n",
            "spark-2.4.5-bin-hadoop2.7/examples/src/main/java/org/apache/spark/examples/streaming/JavaQueueStream.java\n",
            "spark-2.4.5-bin-hadoop2.7/examples/src/main/java/org/apache/spark/examples/streaming/JavaNetworkWordCount.java\n",
            "spark-2.4.5-bin-hadoop2.7/examples/src/main/java/org/apache/spark/examples/streaming/JavaDirectKafkaWordCount.java\n",
            "spark-2.4.5-bin-hadoop2.7/examples/src/main/java/org/apache/spark/examples/streaming/JavaCustomReceiver.java\n",
            "spark-2.4.5-bin-hadoop2.7/examples/src/main/java/org/apache/spark/examples/sql/\n",
            "spark-2.4.5-bin-hadoop2.7/examples/src/main/java/org/apache/spark/examples/sql/JavaUserDefinedUntypedAggregation.java\n",
            "spark-2.4.5-bin-hadoop2.7/examples/src/main/java/org/apache/spark/examples/sql/JavaSQLDataSourceExample.java\n",
            "spark-2.4.5-bin-hadoop2.7/examples/src/main/java/org/apache/spark/examples/sql/streaming/\n",
            "spark-2.4.5-bin-hadoop2.7/examples/src/main/java/org/apache/spark/examples/sql/streaming/JavaStructuredSessionization.java\n",
            "spark-2.4.5-bin-hadoop2.7/examples/src/main/java/org/apache/spark/examples/sql/streaming/JavaStructuredNetworkWordCountWindowed.java\n",
            "spark-2.4.5-bin-hadoop2.7/examples/src/main/java/org/apache/spark/examples/sql/streaming/JavaStructuredNetworkWordCount.java\n",
            "spark-2.4.5-bin-hadoop2.7/examples/src/main/java/org/apache/spark/examples/sql/streaming/JavaStructuredKafkaWordCount.java\n",
            "spark-2.4.5-bin-hadoop2.7/examples/src/main/java/org/apache/spark/examples/sql/hive/\n",
            "spark-2.4.5-bin-hadoop2.7/examples/src/main/java/org/apache/spark/examples/sql/hive/JavaSparkHiveExample.java\n",
            "spark-2.4.5-bin-hadoop2.7/examples/src/main/java/org/apache/spark/examples/sql/JavaUserDefinedTypedAggregation.java\n",
            "spark-2.4.5-bin-hadoop2.7/examples/src/main/java/org/apache/spark/examples/sql/JavaSparkSQLExample.java\n",
            "spark-2.4.5-bin-hadoop2.7/examples/src/main/scala/\n",
            "spark-2.4.5-bin-hadoop2.7/examples/src/main/scala/org/\n",
            "spark-2.4.5-bin-hadoop2.7/examples/src/main/scala/org/apache/\n",
            "spark-2.4.5-bin-hadoop2.7/examples/src/main/scala/org/apache/spark/\n",
            "spark-2.4.5-bin-hadoop2.7/examples/src/main/scala/org/apache/spark/examples/\n",
            "spark-2.4.5-bin-hadoop2.7/examples/src/main/scala/org/apache/spark/examples/SparkTC.scala\n",
            "spark-2.4.5-bin-hadoop2.7/examples/src/main/scala/org/apache/spark/examples/SparkRemoteFileTest.scala\n",
            "spark-2.4.5-bin-hadoop2.7/examples/src/main/scala/org/apache/spark/examples/SparkPi.scala\n",
            "spark-2.4.5-bin-hadoop2.7/examples/src/main/scala/org/apache/spark/examples/SparkPageRank.scala\n",
            "spark-2.4.5-bin-hadoop2.7/examples/src/main/scala/org/apache/spark/examples/SparkLR.scala\n",
            "spark-2.4.5-bin-hadoop2.7/examples/src/main/scala/org/apache/spark/examples/SparkKMeans.scala\n",
            "spark-2.4.5-bin-hadoop2.7/examples/src/main/scala/org/apache/spark/examples/SparkHdfsLR.scala\n",
            "spark-2.4.5-bin-hadoop2.7/examples/src/main/scala/org/apache/spark/examples/SparkALS.scala\n",
            "spark-2.4.5-bin-hadoop2.7/examples/src/main/scala/org/apache/spark/examples/SkewedGroupByTest.scala\n",
            "spark-2.4.5-bin-hadoop2.7/examples/src/main/scala/org/apache/spark/examples/SimpleSkewedGroupByTest.scala\n",
            "spark-2.4.5-bin-hadoop2.7/examples/src/main/scala/org/apache/spark/examples/MultiBroadcastTest.scala\n",
            "spark-2.4.5-bin-hadoop2.7/examples/src/main/scala/org/apache/spark/examples/LogQuery.scala\n",
            "spark-2.4.5-bin-hadoop2.7/examples/src/main/scala/org/apache/spark/examples/LocalPi.scala\n",
            "spark-2.4.5-bin-hadoop2.7/examples/src/main/scala/org/apache/spark/examples/LocalLR.scala\n",
            "spark-2.4.5-bin-hadoop2.7/examples/src/main/scala/org/apache/spark/examples/LocalKMeans.scala\n",
            "spark-2.4.5-bin-hadoop2.7/examples/src/main/scala/org/apache/spark/examples/LocalFileLR.scala\n",
            "spark-2.4.5-bin-hadoop2.7/examples/src/main/scala/org/apache/spark/examples/LocalALS.scala\n",
            "spark-2.4.5-bin-hadoop2.7/examples/src/main/scala/org/apache/spark/examples/HdfsTest.scala\n",
            "spark-2.4.5-bin-hadoop2.7/examples/src/main/scala/org/apache/spark/examples/GroupByTest.scala\n",
            "spark-2.4.5-bin-hadoop2.7/examples/src/main/scala/org/apache/spark/examples/ExceptionHandlingTest.scala\n",
            "spark-2.4.5-bin-hadoop2.7/examples/src/main/scala/org/apache/spark/examples/DriverSubmissionTest.scala\n",
            "spark-2.4.5-bin-hadoop2.7/examples/src/main/scala/org/apache/spark/examples/DFSReadWriteTest.scala\n",
            "spark-2.4.5-bin-hadoop2.7/examples/src/main/scala/org/apache/spark/examples/BroadcastTest.scala\n",
            "spark-2.4.5-bin-hadoop2.7/examples/src/main/scala/org/apache/spark/examples/streaming/\n",
            "spark-2.4.5-bin-hadoop2.7/examples/src/main/scala/org/apache/spark/examples/streaming/StreamingExamples.scala\n",
            "spark-2.4.5-bin-hadoop2.7/examples/src/main/scala/org/apache/spark/examples/streaming/StatefulNetworkWordCount.scala\n",
            "spark-2.4.5-bin-hadoop2.7/examples/src/main/scala/org/apache/spark/examples/streaming/SqlNetworkWordCount.scala\n",
            "spark-2.4.5-bin-hadoop2.7/examples/src/main/scala/org/apache/spark/examples/streaming/RecoverableNetworkWordCount.scala\n",
            "spark-2.4.5-bin-hadoop2.7/examples/src/main/scala/org/apache/spark/examples/streaming/RawNetworkGrep.scala\n",
            "spark-2.4.5-bin-hadoop2.7/examples/src/main/scala/org/apache/spark/examples/streaming/QueueStream.scala\n",
            "spark-2.4.5-bin-hadoop2.7/examples/src/main/scala/org/apache/spark/examples/streaming/NetworkWordCount.scala\n",
            "spark-2.4.5-bin-hadoop2.7/examples/src/main/scala/org/apache/spark/examples/streaming/HdfsWordCount.scala\n",
            "spark-2.4.5-bin-hadoop2.7/examples/src/main/scala/org/apache/spark/examples/streaming/DirectKafkaWordCount.scala\n",
            "spark-2.4.5-bin-hadoop2.7/examples/src/main/scala/org/apache/spark/examples/streaming/CustomReceiver.scala\n",
            "spark-2.4.5-bin-hadoop2.7/examples/src/main/scala/org/apache/spark/examples/streaming/clickstream/\n",
            "spark-2.4.5-bin-hadoop2.7/examples/src/main/scala/org/apache/spark/examples/streaming/clickstream/PageViewStream.scala\n",
            "spark-2.4.5-bin-hadoop2.7/examples/src/main/scala/org/apache/spark/examples/streaming/clickstream/PageViewGenerator.scala\n",
            "spark-2.4.5-bin-hadoop2.7/examples/src/main/scala/org/apache/spark/examples/sql/\n",
            "spark-2.4.5-bin-hadoop2.7/examples/src/main/scala/org/apache/spark/examples/sql/UserDefinedUntypedAggregation.scala\n",
            "spark-2.4.5-bin-hadoop2.7/examples/src/main/scala/org/apache/spark/examples/sql/SparkSQLExample.scala\n",
            "spark-2.4.5-bin-hadoop2.7/examples/src/main/scala/org/apache/spark/examples/sql/SQLDataSourceExample.scala\n",
            "spark-2.4.5-bin-hadoop2.7/examples/src/main/scala/org/apache/spark/examples/sql/RDDRelation.scala\n",
            "spark-2.4.5-bin-hadoop2.7/examples/src/main/scala/org/apache/spark/examples/sql/streaming/\n",
            "spark-2.4.5-bin-hadoop2.7/examples/src/main/scala/org/apache/spark/examples/sql/streaming/StructuredNetworkWordCountWindowed.scala\n",
            "spark-2.4.5-bin-hadoop2.7/examples/src/main/scala/org/apache/spark/examples/sql/streaming/StructuredNetworkWordCount.scala\n",
            "spark-2.4.5-bin-hadoop2.7/examples/src/main/scala/org/apache/spark/examples/sql/streaming/StructuredSessionization.scala\n",
            "spark-2.4.5-bin-hadoop2.7/examples/src/main/scala/org/apache/spark/examples/sql/streaming/StructuredKafkaWordCount.scala\n",
            "spark-2.4.5-bin-hadoop2.7/examples/src/main/scala/org/apache/spark/examples/sql/hive/\n",
            "spark-2.4.5-bin-hadoop2.7/examples/src/main/scala/org/apache/spark/examples/sql/hive/SparkHiveExample.scala\n",
            "spark-2.4.5-bin-hadoop2.7/examples/src/main/scala/org/apache/spark/examples/sql/UserDefinedTypedAggregation.scala\n",
            "spark-2.4.5-bin-hadoop2.7/examples/src/main/scala/org/apache/spark/examples/pythonconverters/\n",
            "spark-2.4.5-bin-hadoop2.7/examples/src/main/scala/org/apache/spark/examples/pythonconverters/AvroConverters.scala\n",
            "spark-2.4.5-bin-hadoop2.7/examples/src/main/scala/org/apache/spark/examples/mllib/\n",
            "spark-2.4.5-bin-hadoop2.7/examples/src/main/scala/org/apache/spark/examples/mllib/TallSkinnySVD.scala\n",
            "spark-2.4.5-bin-hadoop2.7/examples/src/main/scala/org/apache/spark/examples/mllib/TallSkinnyPCA.scala\n",
            "spark-2.4.5-bin-hadoop2.7/examples/src/main/scala/org/apache/spark/examples/mllib/StreamingTestExample.scala\n",
            "spark-2.4.5-bin-hadoop2.7/examples/src/main/scala/org/apache/spark/examples/mllib/StreamingLogisticRegression.scala\n",
            "spark-2.4.5-bin-hadoop2.7/examples/src/main/scala/org/apache/spark/examples/mllib/StreamingKMeansExample.scala\n",
            "spark-2.4.5-bin-hadoop2.7/examples/src/main/scala/org/apache/spark/examples/mllib/SparseNaiveBayes.scala\n",
            "spark-2.4.5-bin-hadoop2.7/examples/src/main/scala/org/apache/spark/examples/mllib/SimpleFPGrowth.scala\n",
            "spark-2.4.5-bin-hadoop2.7/examples/src/main/scala/org/apache/spark/examples/mllib/SampledRDDs.scala\n",
            "spark-2.4.5-bin-hadoop2.7/examples/src/main/scala/org/apache/spark/examples/mllib/RegressionMetricsExample.scala\n",
            "spark-2.4.5-bin-hadoop2.7/examples/src/main/scala/org/apache/spark/examples/mllib/RankingMetricsExample.scala\n",
            "spark-2.4.5-bin-hadoop2.7/examples/src/main/scala/org/apache/spark/examples/mllib/RandomRDDGeneration.scala\n",
            "spark-2.4.5-bin-hadoop2.7/examples/src/main/scala/org/apache/spark/examples/mllib/PrefixSpanExample.scala\n",
            "spark-2.4.5-bin-hadoop2.7/examples/src/main/scala/org/apache/spark/examples/mllib/PowerIterationClusteringExample.scala\n",
            "spark-2.4.5-bin-hadoop2.7/examples/src/main/scala/org/apache/spark/examples/mllib/PCAExample.scala\n",
            "spark-2.4.5-bin-hadoop2.7/examples/src/main/scala/org/apache/spark/examples/mllib/MultivariateSummarizer.scala\n",
            "spark-2.4.5-bin-hadoop2.7/examples/src/main/scala/org/apache/spark/examples/mllib/MovieLensALS.scala\n",
            "spark-2.4.5-bin-hadoop2.7/examples/src/main/scala/org/apache/spark/examples/mllib/LinearRegressionWithSGDExample.scala\n",
            "spark-2.4.5-bin-hadoop2.7/examples/src/main/scala/org/apache/spark/examples/mllib/LinearRegression.scala\n",
            "spark-2.4.5-bin-hadoop2.7/examples/src/main/scala/org/apache/spark/examples/mllib/LatentDirichletAllocationExample.scala\n",
            "spark-2.4.5-bin-hadoop2.7/examples/src/main/scala/org/apache/spark/examples/mllib/LDAExample.scala\n",
            "spark-2.4.5-bin-hadoop2.7/examples/src/main/scala/org/apache/spark/examples/mllib/KMeansExample.scala\n",
            "spark-2.4.5-bin-hadoop2.7/examples/src/main/scala/org/apache/spark/examples/mllib/HypothesisTestingExample.scala\n",
            "spark-2.4.5-bin-hadoop2.7/examples/src/main/scala/org/apache/spark/examples/mllib/GradientBoostedTreesRunner.scala\n",
            "spark-2.4.5-bin-hadoop2.7/examples/src/main/scala/org/apache/spark/examples/mllib/GaussianMixtureExample.scala\n",
            "spark-2.4.5-bin-hadoop2.7/examples/src/main/scala/org/apache/spark/examples/mllib/FPGrowthExample.scala\n",
            "spark-2.4.5-bin-hadoop2.7/examples/src/main/scala/org/apache/spark/examples/mllib/ElementwiseProductExample.scala\n",
            "spark-2.4.5-bin-hadoop2.7/examples/src/main/scala/org/apache/spark/examples/mllib/DenseKMeans.scala\n",
            "spark-2.4.5-bin-hadoop2.7/examples/src/main/scala/org/apache/spark/examples/mllib/DecisionTreeRunner.scala\n",
            "spark-2.4.5-bin-hadoop2.7/examples/src/main/scala/org/apache/spark/examples/mllib/CosineSimilarity.scala\n",
            "spark-2.4.5-bin-hadoop2.7/examples/src/main/scala/org/apache/spark/examples/mllib/Correlations.scala\n",
            "spark-2.4.5-bin-hadoop2.7/examples/src/main/scala/org/apache/spark/examples/mllib/BisectingKMeansExample.scala\n",
            "spark-2.4.5-bin-hadoop2.7/examples/src/main/scala/org/apache/spark/examples/mllib/BinaryClassification.scala\n",
            "spark-2.4.5-bin-hadoop2.7/examples/src/main/scala/org/apache/spark/examples/mllib/AssociationRulesExample.scala\n",
            "spark-2.4.5-bin-hadoop2.7/examples/src/main/scala/org/apache/spark/examples/mllib/Word2VecExample.scala\n",
            "spark-2.4.5-bin-hadoop2.7/examples/src/main/scala/org/apache/spark/examples/mllib/TFIDFExample.scala\n",
            "spark-2.4.5-bin-hadoop2.7/examples/src/main/scala/org/apache/spark/examples/mllib/SummaryStatisticsExample.scala\n",
            "spark-2.4.5-bin-hadoop2.7/examples/src/main/scala/org/apache/spark/examples/mllib/StreamingLinearRegressionExample.scala\n",
            "spark-2.4.5-bin-hadoop2.7/examples/src/main/scala/org/apache/spark/examples/mllib/StratifiedSamplingExample.scala\n",
            "spark-2.4.5-bin-hadoop2.7/examples/src/main/scala/org/apache/spark/examples/mllib/StandardScalerExample.scala\n",
            "spark-2.4.5-bin-hadoop2.7/examples/src/main/scala/org/apache/spark/examples/mllib/SVMWithSGDExample.scala\n",
            "spark-2.4.5-bin-hadoop2.7/examples/src/main/scala/org/apache/spark/examples/mllib/SVDExample.scala\n",
            "spark-2.4.5-bin-hadoop2.7/examples/src/main/scala/org/apache/spark/examples/mllib/RecommendationExample.scala\n",
            "spark-2.4.5-bin-hadoop2.7/examples/src/main/scala/org/apache/spark/examples/mllib/RandomForestRegressionExample.scala\n",
            "spark-2.4.5-bin-hadoop2.7/examples/src/main/scala/org/apache/spark/examples/mllib/RandomForestClassificationExample.scala\n",
            "spark-2.4.5-bin-hadoop2.7/examples/src/main/scala/org/apache/spark/examples/mllib/PMMLModelExportExample.scala\n",
            "spark-2.4.5-bin-hadoop2.7/examples/src/main/scala/org/apache/spark/examples/mllib/PCAOnSourceVectorExample.scala\n",
            "spark-2.4.5-bin-hadoop2.7/examples/src/main/scala/org/apache/spark/examples/mllib/PCAOnRowMatrixExample.scala\n",
            "spark-2.4.5-bin-hadoop2.7/examples/src/main/scala/org/apache/spark/examples/mllib/NormalizerExample.scala\n",
            "spark-2.4.5-bin-hadoop2.7/examples/src/main/scala/org/apache/spark/examples/mllib/NaiveBayesExample.scala\n",
            "spark-2.4.5-bin-hadoop2.7/examples/src/main/scala/org/apache/spark/examples/mllib/MulticlassMetricsExample.scala\n",
            "spark-2.4.5-bin-hadoop2.7/examples/src/main/scala/org/apache/spark/examples/mllib/MultiLabelMetricsExample.scala\n",
            "spark-2.4.5-bin-hadoop2.7/examples/src/main/scala/org/apache/spark/examples/mllib/LogisticRegressionWithLBFGSExample.scala\n",
            "spark-2.4.5-bin-hadoop2.7/examples/src/main/scala/org/apache/spark/examples/mllib/LBFGSExample.scala\n",
            "spark-2.4.5-bin-hadoop2.7/examples/src/main/scala/org/apache/spark/examples/mllib/KernelDensityEstimationExample.scala\n",
            "spark-2.4.5-bin-hadoop2.7/examples/src/main/scala/org/apache/spark/examples/mllib/IsotonicRegressionExample.scala\n",
            "spark-2.4.5-bin-hadoop2.7/examples/src/main/scala/org/apache/spark/examples/mllib/HypothesisTestingKolmogorovSmirnovTestExample.scala\n",
            "spark-2.4.5-bin-hadoop2.7/examples/src/main/scala/org/apache/spark/examples/mllib/GradientBoostingRegressionExample.scala\n",
            "spark-2.4.5-bin-hadoop2.7/examples/src/main/scala/org/apache/spark/examples/mllib/GradientBoostingClassificationExample.scala\n",
            "spark-2.4.5-bin-hadoop2.7/examples/src/main/scala/org/apache/spark/examples/mllib/DecisionTreeRegressionExample.scala\n",
            "spark-2.4.5-bin-hadoop2.7/examples/src/main/scala/org/apache/spark/examples/mllib/DecisionTreeClassificationExample.scala\n",
            "spark-2.4.5-bin-hadoop2.7/examples/src/main/scala/org/apache/spark/examples/mllib/CorrelationsExample.scala\n",
            "spark-2.4.5-bin-hadoop2.7/examples/src/main/scala/org/apache/spark/examples/mllib/ChiSqSelectorExample.scala\n",
            "spark-2.4.5-bin-hadoop2.7/examples/src/main/scala/org/apache/spark/examples/mllib/BinaryClassificationMetricsExample.scala\n",
            "spark-2.4.5-bin-hadoop2.7/examples/src/main/scala/org/apache/spark/examples/mllib/AbstractParams.scala\n",
            "spark-2.4.5-bin-hadoop2.7/examples/src/main/scala/org/apache/spark/examples/ml/\n",
            "spark-2.4.5-bin-hadoop2.7/examples/src/main/scala/org/apache/spark/examples/ml/Word2VecExample.scala\n",
            "spark-2.4.5-bin-hadoop2.7/examples/src/main/scala/org/apache/spark/examples/ml/UnaryTransformerExample.scala\n",
            "spark-2.4.5-bin-hadoop2.7/examples/src/main/scala/org/apache/spark/examples/ml/TfIdfExample.scala\n",
            "spark-2.4.5-bin-hadoop2.7/examples/src/main/scala/org/apache/spark/examples/ml/SQLTransformerExample.scala\n",
            "spark-2.4.5-bin-hadoop2.7/examples/src/main/scala/org/apache/spark/examples/ml/RandomForestExample.scala\n",
            "spark-2.4.5-bin-hadoop2.7/examples/src/main/scala/org/apache/spark/examples/ml/RandomForestClassifierExample.scala\n",
            "spark-2.4.5-bin-hadoop2.7/examples/src/main/scala/org/apache/spark/examples/ml/QuantileDiscretizerExample.scala\n",
            "spark-2.4.5-bin-hadoop2.7/examples/src/main/scala/org/apache/spark/examples/ml/PrefixSpanExample.scala\n",
            "spark-2.4.5-bin-hadoop2.7/examples/src/main/scala/org/apache/spark/examples/ml/OneVsRestExample.scala\n",
            "spark-2.4.5-bin-hadoop2.7/examples/src/main/scala/org/apache/spark/examples/ml/OneHotEncoderEstimatorExample.scala\n",
            "spark-2.4.5-bin-hadoop2.7/examples/src/main/scala/org/apache/spark/examples/ml/LogisticRegressionExample.scala\n",
            "spark-2.4.5-bin-hadoop2.7/examples/src/main/scala/org/apache/spark/examples/ml/LinearRegressionExample.scala\n",
            "spark-2.4.5-bin-hadoop2.7/examples/src/main/scala/org/apache/spark/examples/ml/IndexToStringExample.scala\n",
            "spark-2.4.5-bin-hadoop2.7/examples/src/main/scala/org/apache/spark/examples/ml/GradientBoostedTreeClassifierExample.scala\n",
            "spark-2.4.5-bin-hadoop2.7/examples/src/main/scala/org/apache/spark/examples/ml/GBTExample.scala\n",
            "spark-2.4.5-bin-hadoop2.7/examples/src/main/scala/org/apache/spark/examples/ml/FPGrowthExample.scala\n",
            "spark-2.4.5-bin-hadoop2.7/examples/src/main/scala/org/apache/spark/examples/ml/DeveloperApiExample.scala\n",
            "spark-2.4.5-bin-hadoop2.7/examples/src/main/scala/org/apache/spark/examples/ml/DecisionTreeExample.scala\n",
            "spark-2.4.5-bin-hadoop2.7/examples/src/main/scala/org/apache/spark/examples/ml/DecisionTreeClassificationExample.scala\n",
            "spark-2.4.5-bin-hadoop2.7/examples/src/main/scala/org/apache/spark/examples/ml/DataFrameExample.scala\n",
            "spark-2.4.5-bin-hadoop2.7/examples/src/main/scala/org/apache/spark/examples/ml/CountVectorizerExample.scala\n",
            "spark-2.4.5-bin-hadoop2.7/examples/src/main/scala/org/apache/spark/examples/ml/ChiSqSelectorExample.scala\n",
            "spark-2.4.5-bin-hadoop2.7/examples/src/main/scala/org/apache/spark/examples/ml/BisectingKMeansExample.scala\n",
            "spark-2.4.5-bin-hadoop2.7/examples/src/main/scala/org/apache/spark/examples/ml/ALSExample.scala\n",
            "spark-2.4.5-bin-hadoop2.7/examples/src/main/scala/org/apache/spark/examples/ml/VectorSlicerExample.scala\n",
            "spark-2.4.5-bin-hadoop2.7/examples/src/main/scala/org/apache/spark/examples/ml/VectorSizeHintExample.scala\n",
            "spark-2.4.5-bin-hadoop2.7/examples/src/main/scala/org/apache/spark/examples/ml/VectorIndexerExample.scala\n",
            "spark-2.4.5-bin-hadoop2.7/examples/src/main/scala/org/apache/spark/examples/ml/VectorAssemblerExample.scala\n",
            "spark-2.4.5-bin-hadoop2.7/examples/src/main/scala/org/apache/spark/examples/ml/TokenizerExample.scala\n",
            "spark-2.4.5-bin-hadoop2.7/examples/src/main/scala/org/apache/spark/examples/ml/SummarizerExample.scala\n",
            "spark-2.4.5-bin-hadoop2.7/examples/src/main/scala/org/apache/spark/examples/ml/StringIndexerExample.scala\n",
            "spark-2.4.5-bin-hadoop2.7/examples/src/main/scala/org/apache/spark/examples/ml/StopWordsRemoverExample.scala\n",
            "spark-2.4.5-bin-hadoop2.7/examples/src/main/scala/org/apache/spark/examples/ml/StandardScalerExample.scala\n",
            "spark-2.4.5-bin-hadoop2.7/examples/src/main/scala/org/apache/spark/examples/ml/RandomForestRegressorExample.scala\n",
            "spark-2.4.5-bin-hadoop2.7/examples/src/main/scala/org/apache/spark/examples/ml/RFormulaExample.scala\n",
            "spark-2.4.5-bin-hadoop2.7/examples/src/main/scala/org/apache/spark/examples/ml/PowerIterationClusteringExample.scala\n",
            "spark-2.4.5-bin-hadoop2.7/examples/src/main/scala/org/apache/spark/examples/ml/PolynomialExpansionExample.scala\n",
            "spark-2.4.5-bin-hadoop2.7/examples/src/main/scala/org/apache/spark/examples/ml/PipelineExample.scala\n",
            "spark-2.4.5-bin-hadoop2.7/examples/src/main/scala/org/apache/spark/examples/ml/BinarizerExample.scala\n",
            "spark-2.4.5-bin-hadoop2.7/examples/src/main/scala/org/apache/spark/examples/ml/AFTSurvivalRegressionExample.scala\n",
            "spark-2.4.5-bin-hadoop2.7/examples/src/main/scala/org/apache/spark/examples/ml/PCAExample.scala\n",
            "spark-2.4.5-bin-hadoop2.7/examples/src/main/scala/org/apache/spark/examples/ml/NormalizerExample.scala\n",
            "spark-2.4.5-bin-hadoop2.7/examples/src/main/scala/org/apache/spark/examples/ml/NaiveBayesExample.scala\n",
            "spark-2.4.5-bin-hadoop2.7/examples/src/main/scala/org/apache/spark/examples/ml/NGramExample.scala\n",
            "spark-2.4.5-bin-hadoop2.7/examples/src/main/scala/org/apache/spark/examples/ml/MultilayerPerceptronClassifierExample.scala\n",
            "spark-2.4.5-bin-hadoop2.7/examples/src/main/scala/org/apache/spark/examples/ml/MulticlassLogisticRegressionWithElasticNetExample.scala\n",
            "spark-2.4.5-bin-hadoop2.7/examples/src/main/scala/org/apache/spark/examples/ml/ModelSelectionViaTrainValidationSplitExample.scala\n",
            "spark-2.4.5-bin-hadoop2.7/examples/src/main/scala/org/apache/spark/examples/ml/ModelSelectionViaCrossValidationExample.scala\n",
            "spark-2.4.5-bin-hadoop2.7/examples/src/main/scala/org/apache/spark/examples/ml/MinMaxScalerExample.scala\n",
            "spark-2.4.5-bin-hadoop2.7/examples/src/main/scala/org/apache/spark/examples/ml/MinHashLSHExample.scala\n",
            "spark-2.4.5-bin-hadoop2.7/examples/src/main/scala/org/apache/spark/examples/ml/MaxAbsScalerExample.scala\n",
            "spark-2.4.5-bin-hadoop2.7/examples/src/main/scala/org/apache/spark/examples/ml/LogisticRegressionWithElasticNetExample.scala\n",
            "spark-2.4.5-bin-hadoop2.7/examples/src/main/scala/org/apache/spark/examples/ml/LogisticRegressionSummaryExample.scala\n",
            "spark-2.4.5-bin-hadoop2.7/examples/src/main/scala/org/apache/spark/examples/ml/LinearSVCExample.scala\n",
            "spark-2.4.5-bin-hadoop2.7/examples/src/main/scala/org/apache/spark/examples/ml/LinearRegressionWithElasticNetExample.scala\n",
            "spark-2.4.5-bin-hadoop2.7/examples/src/main/scala/org/apache/spark/examples/ml/LDAExample.scala\n",
            "spark-2.4.5-bin-hadoop2.7/examples/src/main/scala/org/apache/spark/examples/ml/KMeansExample.scala\n",
            "spark-2.4.5-bin-hadoop2.7/examples/src/main/scala/org/apache/spark/examples/ml/IsotonicRegressionExample.scala\n",
            "spark-2.4.5-bin-hadoop2.7/examples/src/main/scala/org/apache/spark/examples/ml/InteractionExample.scala\n",
            "spark-2.4.5-bin-hadoop2.7/examples/src/main/scala/org/apache/spark/examples/ml/ImputerExample.scala\n",
            "spark-2.4.5-bin-hadoop2.7/examples/src/main/scala/org/apache/spark/examples/ml/GradientBoostedTreeRegressorExample.scala\n",
            "spark-2.4.5-bin-hadoop2.7/examples/src/main/scala/org/apache/spark/examples/ml/GeneralizedLinearRegressionExample.scala\n",
            "spark-2.4.5-bin-hadoop2.7/examples/src/main/scala/org/apache/spark/examples/ml/GaussianMixtureExample.scala\n",
            "spark-2.4.5-bin-hadoop2.7/examples/src/main/scala/org/apache/spark/examples/ml/FeatureHasherExample.scala\n",
            "spark-2.4.5-bin-hadoop2.7/examples/src/main/scala/org/apache/spark/examples/ml/EstimatorTransformerParamExample.scala\n",
            "spark-2.4.5-bin-hadoop2.7/examples/src/main/scala/org/apache/spark/examples/ml/ElementwiseProductExample.scala\n",
            "spark-2.4.5-bin-hadoop2.7/examples/src/main/scala/org/apache/spark/examples/ml/DecisionTreeRegressionExample.scala\n",
            "spark-2.4.5-bin-hadoop2.7/examples/src/main/scala/org/apache/spark/examples/ml/DCTExample.scala\n",
            "spark-2.4.5-bin-hadoop2.7/examples/src/main/scala/org/apache/spark/examples/ml/CorrelationExample.scala\n",
            "spark-2.4.5-bin-hadoop2.7/examples/src/main/scala/org/apache/spark/examples/ml/ChiSquareTestExample.scala\n",
            "spark-2.4.5-bin-hadoop2.7/examples/src/main/scala/org/apache/spark/examples/ml/BucketizerExample.scala\n",
            "spark-2.4.5-bin-hadoop2.7/examples/src/main/scala/org/apache/spark/examples/ml/BucketedRandomProjectionLSHExample.scala\n",
            "spark-2.4.5-bin-hadoop2.7/examples/src/main/scala/org/apache/spark/examples/graphx/\n",
            "spark-2.4.5-bin-hadoop2.7/examples/src/main/scala/org/apache/spark/examples/graphx/SynthBenchmark.scala\n",
            "spark-2.4.5-bin-hadoop2.7/examples/src/main/scala/org/apache/spark/examples/graphx/LiveJournalPageRank.scala\n",
            "spark-2.4.5-bin-hadoop2.7/examples/src/main/scala/org/apache/spark/examples/graphx/TriangleCountingExample.scala\n",
            "spark-2.4.5-bin-hadoop2.7/examples/src/main/scala/org/apache/spark/examples/graphx/SSSPExample.scala\n",
            "spark-2.4.5-bin-hadoop2.7/examples/src/main/scala/org/apache/spark/examples/graphx/PageRankExample.scala\n",
            "spark-2.4.5-bin-hadoop2.7/examples/src/main/scala/org/apache/spark/examples/graphx/ConnectedComponentsExample.scala\n",
            "spark-2.4.5-bin-hadoop2.7/examples/src/main/scala/org/apache/spark/examples/graphx/ComprehensiveExample.scala\n",
            "spark-2.4.5-bin-hadoop2.7/examples/src/main/scala/org/apache/spark/examples/graphx/Analytics.scala\n",
            "spark-2.4.5-bin-hadoop2.7/examples/src/main/scala/org/apache/spark/examples/graphx/AggregateMessagesExample.scala\n",
            "spark-2.4.5-bin-hadoop2.7/examples/src/main/resources/\n",
            "spark-2.4.5-bin-hadoop2.7/examples/src/main/resources/users.parquet\n",
            "spark-2.4.5-bin-hadoop2.7/examples/src/main/resources/users.orc\n",
            "spark-2.4.5-bin-hadoop2.7/examples/src/main/resources/users.avro\n",
            "spark-2.4.5-bin-hadoop2.7/examples/src/main/resources/user.avsc\n",
            "spark-2.4.5-bin-hadoop2.7/examples/src/main/resources/people.txt\n",
            "spark-2.4.5-bin-hadoop2.7/examples/src/main/resources/people.json\n",
            "spark-2.4.5-bin-hadoop2.7/examples/src/main/resources/people.csv\n",
            "spark-2.4.5-bin-hadoop2.7/examples/src/main/resources/kv1.txt\n",
            "spark-2.4.5-bin-hadoop2.7/examples/src/main/resources/full_user.avsc\n",
            "spark-2.4.5-bin-hadoop2.7/examples/src/main/resources/employees.json\n",
            "spark-2.4.5-bin-hadoop2.7/examples/src/main/r/\n",
            "spark-2.4.5-bin-hadoop2.7/examples/src/main/r/RSparkSQLExample.R\n",
            "spark-2.4.5-bin-hadoop2.7/examples/src/main/r/streaming/\n",
            "spark-2.4.5-bin-hadoop2.7/examples/src/main/r/streaming/structured_network_wordcount.R\n",
            "spark-2.4.5-bin-hadoop2.7/examples/src/main/r/ml/\n",
            "spark-2.4.5-bin-hadoop2.7/examples/src/main/r/ml/svmLinear.R\n",
            "spark-2.4.5-bin-hadoop2.7/examples/src/main/r/ml/survreg.R\n",
            "spark-2.4.5-bin-hadoop2.7/examples/src/main/r/ml/randomForest.R\n",
            "spark-2.4.5-bin-hadoop2.7/examples/src/main/r/ml/naiveBayes.R\n",
            "spark-2.4.5-bin-hadoop2.7/examples/src/main/r/ml/mlp.R\n",
            "spark-2.4.5-bin-hadoop2.7/examples/src/main/r/ml/ml.R\n",
            "spark-2.4.5-bin-hadoop2.7/examples/src/main/r/ml/logit.R\n",
            "spark-2.4.5-bin-hadoop2.7/examples/src/main/r/ml/lda.R\n",
            "spark-2.4.5-bin-hadoop2.7/examples/src/main/r/ml/kstest.R\n",
            "spark-2.4.5-bin-hadoop2.7/examples/src/main/r/ml/kmeans.R\n",
            "spark-2.4.5-bin-hadoop2.7/examples/src/main/r/ml/isoreg.R\n",
            "spark-2.4.5-bin-hadoop2.7/examples/src/main/r/ml/glm.R\n",
            "spark-2.4.5-bin-hadoop2.7/examples/src/main/r/ml/gbt.R\n",
            "spark-2.4.5-bin-hadoop2.7/examples/src/main/r/ml/gaussianMixture.R\n",
            "spark-2.4.5-bin-hadoop2.7/examples/src/main/r/ml/fpm.R\n",
            "spark-2.4.5-bin-hadoop2.7/examples/src/main/r/ml/decisionTree.R\n",
            "spark-2.4.5-bin-hadoop2.7/examples/src/main/r/ml/bisectingKmeans.R\n",
            "spark-2.4.5-bin-hadoop2.7/examples/src/main/r/ml/als.R\n",
            "spark-2.4.5-bin-hadoop2.7/examples/src/main/r/dataframe.R\n",
            "spark-2.4.5-bin-hadoop2.7/examples/src/main/r/data-manipulation.R\n",
            "spark-2.4.5-bin-hadoop2.7/examples/src/main/python/\n",
            "spark-2.4.5-bin-hadoop2.7/examples/src/main/python/wordcount.py\n",
            "spark-2.4.5-bin-hadoop2.7/examples/src/main/python/transitive_closure.py\n",
            "spark-2.4.5-bin-hadoop2.7/examples/src/main/python/streaming/\n",
            "spark-2.4.5-bin-hadoop2.7/examples/src/main/python/streaming/recoverable_network_wordcount.py\n",
            "spark-2.4.5-bin-hadoop2.7/examples/src/main/python/streaming/kafka_wordcount.py\n",
            "spark-2.4.5-bin-hadoop2.7/examples/src/main/python/streaming/flume_wordcount.py\n",
            "spark-2.4.5-bin-hadoop2.7/examples/src/main/python/streaming/direct_kafka_wordcount.py\n",
            "spark-2.4.5-bin-hadoop2.7/examples/src/main/python/streaming/stateful_network_wordcount.py\n",
            "spark-2.4.5-bin-hadoop2.7/examples/src/main/python/streaming/sql_network_wordcount.py\n",
            "spark-2.4.5-bin-hadoop2.7/examples/src/main/python/streaming/queue_stream.py\n",
            "spark-2.4.5-bin-hadoop2.7/examples/src/main/python/streaming/network_wordjoinsentiments.py\n",
            "spark-2.4.5-bin-hadoop2.7/examples/src/main/python/streaming/network_wordcount.py\n",
            "spark-2.4.5-bin-hadoop2.7/examples/src/main/python/streaming/hdfs_wordcount.py\n",
            "spark-2.4.5-bin-hadoop2.7/examples/src/main/python/status_api_demo.py\n",
            "spark-2.4.5-bin-hadoop2.7/examples/src/main/python/sql/\n",
            "spark-2.4.5-bin-hadoop2.7/examples/src/main/python/sql/hive.py\n",
            "spark-2.4.5-bin-hadoop2.7/examples/src/main/python/sql/datasource.py\n",
            "spark-2.4.5-bin-hadoop2.7/examples/src/main/python/sql/arrow.py\n",
            "spark-2.4.5-bin-hadoop2.7/examples/src/main/python/sql/streaming/\n",
            "spark-2.4.5-bin-hadoop2.7/examples/src/main/python/sql/streaming/structured_network_wordcount_windowed.py\n",
            "spark-2.4.5-bin-hadoop2.7/examples/src/main/python/sql/streaming/structured_network_wordcount.py\n",
            "spark-2.4.5-bin-hadoop2.7/examples/src/main/python/sql/streaming/structured_kafka_wordcount.py\n",
            "spark-2.4.5-bin-hadoop2.7/examples/src/main/python/sql/basic.py\n",
            "spark-2.4.5-bin-hadoop2.7/examples/src/main/python/sort.py\n",
            "spark-2.4.5-bin-hadoop2.7/examples/src/main/python/pi.py\n",
            "spark-2.4.5-bin-hadoop2.7/examples/src/main/python/parquet_inputformat.py\n",
            "spark-2.4.5-bin-hadoop2.7/examples/src/main/python/pagerank.py\n",
            "spark-2.4.5-bin-hadoop2.7/examples/src/main/python/mllib/\n",
            "spark-2.4.5-bin-hadoop2.7/examples/src/main/python/mllib/standard_scaler_example.py\n",
            "spark-2.4.5-bin-hadoop2.7/examples/src/main/python/mllib/ranking_metrics_example.py\n",
            "spark-2.4.5-bin-hadoop2.7/examples/src/main/python/mllib/multi_class_metrics_example.py\n",
            "spark-2.4.5-bin-hadoop2.7/examples/src/main/python/mllib/isotonic_regression_example.py\n",
            "spark-2.4.5-bin-hadoop2.7/examples/src/main/python/mllib/bisecting_k_means_example.py\n",
            "spark-2.4.5-bin-hadoop2.7/examples/src/main/python/mllib/word2vec_example.py\n",
            "spark-2.4.5-bin-hadoop2.7/examples/src/main/python/mllib/word2vec.py\n",
            "spark-2.4.5-bin-hadoop2.7/examples/src/main/python/mllib/tf_idf_example.py\n",
            "spark-2.4.5-bin-hadoop2.7/examples/src/main/python/mllib/svm_with_sgd_example.py\n",
            "spark-2.4.5-bin-hadoop2.7/examples/src/main/python/mllib/svd_example.py\n",
            "spark-2.4.5-bin-hadoop2.7/examples/src/main/python/mllib/summary_statistics_example.py\n",
            "spark-2.4.5-bin-hadoop2.7/examples/src/main/python/mllib/streaming_linear_regression_example.py\n",
            "spark-2.4.5-bin-hadoop2.7/examples/src/main/python/mllib/streaming_k_means_example.py\n",
            "spark-2.4.5-bin-hadoop2.7/examples/src/main/python/mllib/stratified_sampling_example.py\n",
            "spark-2.4.5-bin-hadoop2.7/examples/src/main/python/mllib/sampled_rdds.py\n",
            "spark-2.4.5-bin-hadoop2.7/examples/src/main/python/mllib/regression_metrics_example.py\n",
            "spark-2.4.5-bin-hadoop2.7/examples/src/main/python/mllib/recommendation_example.py\n",
            "spark-2.4.5-bin-hadoop2.7/examples/src/main/python/mllib/random_rdd_generation.py\n",
            "spark-2.4.5-bin-hadoop2.7/examples/src/main/python/mllib/random_forest_regression_example.py\n",
            "spark-2.4.5-bin-hadoop2.7/examples/src/main/python/mllib/random_forest_classification_example.py\n",
            "spark-2.4.5-bin-hadoop2.7/examples/src/main/python/mllib/power_iteration_clustering_example.py\n",
            "spark-2.4.5-bin-hadoop2.7/examples/src/main/python/mllib/pca_rowmatrix_example.py\n",
            "spark-2.4.5-bin-hadoop2.7/examples/src/main/python/mllib/normalizer_example.py\n",
            "spark-2.4.5-bin-hadoop2.7/examples/src/main/python/mllib/naive_bayes_example.py\n",
            "spark-2.4.5-bin-hadoop2.7/examples/src/main/python/mllib/multi_label_metrics_example.py\n",
            "spark-2.4.5-bin-hadoop2.7/examples/src/main/python/mllib/logistic_regression_with_lbfgs_example.py\n",
            "spark-2.4.5-bin-hadoop2.7/examples/src/main/python/mllib/logistic_regression.py\n",
            "spark-2.4.5-bin-hadoop2.7/examples/src/main/python/mllib/linear_regression_with_sgd_example.py\n",
            "spark-2.4.5-bin-hadoop2.7/examples/src/main/python/mllib/latent_dirichlet_allocation_example.py\n",
            "spark-2.4.5-bin-hadoop2.7/examples/src/main/python/mllib/kmeans.py\n",
            "spark-2.4.5-bin-hadoop2.7/examples/src/main/python/mllib/kernel_density_estimation_example.py\n",
            "spark-2.4.5-bin-hadoop2.7/examples/src/main/python/mllib/k_means_example.py\n",
            "spark-2.4.5-bin-hadoop2.7/examples/src/main/python/mllib/hypothesis_testing_kolmogorov_smirnov_test_example.py\n",
            "spark-2.4.5-bin-hadoop2.7/examples/src/main/python/mllib/hypothesis_testing_example.py\n",
            "spark-2.4.5-bin-hadoop2.7/examples/src/main/python/mllib/gradient_boosting_regression_example.py\n",
            "spark-2.4.5-bin-hadoop2.7/examples/src/main/python/mllib/gradient_boosting_classification_example.py\n",
            "spark-2.4.5-bin-hadoop2.7/examples/src/main/python/mllib/gaussian_mixture_model.py\n",
            "spark-2.4.5-bin-hadoop2.7/examples/src/main/python/mllib/gaussian_mixture_example.py\n",
            "spark-2.4.5-bin-hadoop2.7/examples/src/main/python/mllib/fpgrowth_example.py\n",
            "spark-2.4.5-bin-hadoop2.7/examples/src/main/python/mllib/elementwise_product_example.py\n",
            "spark-2.4.5-bin-hadoop2.7/examples/src/main/python/mllib/decision_tree_regression_example.py\n",
            "spark-2.4.5-bin-hadoop2.7/examples/src/main/python/mllib/decision_tree_classification_example.py\n",
            "spark-2.4.5-bin-hadoop2.7/examples/src/main/python/mllib/correlations_example.py\n",
            "spark-2.4.5-bin-hadoop2.7/examples/src/main/python/mllib/correlations.py\n",
            "spark-2.4.5-bin-hadoop2.7/examples/src/main/python/mllib/binary_classification_metrics_example.py\n",
            "spark-2.4.5-bin-hadoop2.7/examples/src/main/python/ml/\n",
            "spark-2.4.5-bin-hadoop2.7/examples/src/main/python/ml/onehot_encoder_estimator_example.py\n",
            "spark-2.4.5-bin-hadoop2.7/examples/src/main/python/ml/bisecting_k_means_example.py\n",
            "spark-2.4.5-bin-hadoop2.7/examples/src/main/python/ml/word2vec_example.py\n",
            "spark-2.4.5-bin-hadoop2.7/examples/src/main/python/ml/vector_slicer_example.py\n",
            "spark-2.4.5-bin-hadoop2.7/examples/src/main/python/ml/vector_size_hint_example.py\n",
            "spark-2.4.5-bin-hadoop2.7/examples/src/main/python/ml/vector_indexer_example.py\n",
            "spark-2.4.5-bin-hadoop2.7/examples/src/main/python/ml/vector_assembler_example.py\n",
            "spark-2.4.5-bin-hadoop2.7/examples/src/main/python/ml/train_validation_split.py\n",
            "spark-2.4.5-bin-hadoop2.7/examples/src/main/python/ml/tokenizer_example.py\n",
            "spark-2.4.5-bin-hadoop2.7/examples/src/main/python/ml/tf_idf_example.py\n",
            "spark-2.4.5-bin-hadoop2.7/examples/src/main/python/ml/summarizer_example.py\n",
            "spark-2.4.5-bin-hadoop2.7/examples/src/main/python/ml/string_indexer_example.py\n",
            "spark-2.4.5-bin-hadoop2.7/examples/src/main/python/ml/stopwords_remover_example.py\n",
            "spark-2.4.5-bin-hadoop2.7/examples/src/main/python/ml/standard_scaler_example.py\n",
            "spark-2.4.5-bin-hadoop2.7/examples/src/main/python/ml/sql_transformer.py\n",
            "spark-2.4.5-bin-hadoop2.7/examples/src/main/python/ml/rformula_example.py\n",
            "spark-2.4.5-bin-hadoop2.7/examples/src/main/python/ml/random_forest_regressor_example.py\n",
            "spark-2.4.5-bin-hadoop2.7/examples/src/main/python/ml/random_forest_classifier_example.py\n",
            "spark-2.4.5-bin-hadoop2.7/examples/src/main/python/ml/quantile_discretizer_example.py\n",
            "spark-2.4.5-bin-hadoop2.7/examples/src/main/python/ml/prefixspan_example.py\n",
            "spark-2.4.5-bin-hadoop2.7/examples/src/main/python/ml/polynomial_expansion_example.py\n",
            "spark-2.4.5-bin-hadoop2.7/examples/src/main/python/ml/pipeline_example.py\n",
            "spark-2.4.5-bin-hadoop2.7/examples/src/main/python/ml/pca_example.py\n",
            "spark-2.4.5-bin-hadoop2.7/examples/src/main/python/ml/one_vs_rest_example.py\n",
            "spark-2.4.5-bin-hadoop2.7/examples/src/main/python/ml/normalizer_example.py\n",
            "spark-2.4.5-bin-hadoop2.7/examples/src/main/python/ml/naive_bayes_example.py\n",
            "spark-2.4.5-bin-hadoop2.7/examples/src/main/python/ml/n_gram_example.py\n",
            "spark-2.4.5-bin-hadoop2.7/examples/src/main/python/ml/multilayer_perceptron_classification.py\n",
            "spark-2.4.5-bin-hadoop2.7/examples/src/main/python/ml/multiclass_logistic_regression_with_elastic_net.py\n",
            "spark-2.4.5-bin-hadoop2.7/examples/src/main/python/ml/min_max_scaler_example.py\n",
            "spark-2.4.5-bin-hadoop2.7/examples/src/main/python/ml/min_hash_lsh_example.py\n",
            "spark-2.4.5-bin-hadoop2.7/examples/src/main/python/ml/max_abs_scaler_example.py\n",
            "spark-2.4.5-bin-hadoop2.7/examples/src/main/python/ml/logistic_regression_with_elastic_net.py\n",
            "spark-2.4.5-bin-hadoop2.7/examples/src/main/python/ml/logistic_regression_summary_example.py\n",
            "spark-2.4.5-bin-hadoop2.7/examples/src/main/python/ml/linearsvc.py\n",
            "spark-2.4.5-bin-hadoop2.7/examples/src/main/python/ml/linear_regression_with_elastic_net.py\n",
            "spark-2.4.5-bin-hadoop2.7/examples/src/main/python/ml/lda_example.py\n",
            "spark-2.4.5-bin-hadoop2.7/examples/src/main/python/ml/kmeans_example.py\n",
            "spark-2.4.5-bin-hadoop2.7/examples/src/main/python/ml/isotonic_regression_example.py\n",
            "spark-2.4.5-bin-hadoop2.7/examples/src/main/python/ml/index_to_string_example.py\n",
            "spark-2.4.5-bin-hadoop2.7/examples/src/main/python/ml/imputer_example.py\n",
            "spark-2.4.5-bin-hadoop2.7/examples/src/main/python/ml/gradient_boosted_tree_regressor_example.py\n",
            "spark-2.4.5-bin-hadoop2.7/examples/src/main/python/ml/gradient_boosted_tree_classifier_example.py\n",
            "spark-2.4.5-bin-hadoop2.7/examples/src/main/python/ml/generalized_linear_regression_example.py\n",
            "spark-2.4.5-bin-hadoop2.7/examples/src/main/python/ml/gaussian_mixture_example.py\n",
            "spark-2.4.5-bin-hadoop2.7/examples/src/main/python/ml/fpgrowth_example.py\n",
            "spark-2.4.5-bin-hadoop2.7/examples/src/main/python/ml/feature_hasher_example.py\n",
            "spark-2.4.5-bin-hadoop2.7/examples/src/main/python/ml/estimator_transformer_param_example.py\n",
            "spark-2.4.5-bin-hadoop2.7/examples/src/main/python/ml/elementwise_product_example.py\n",
            "spark-2.4.5-bin-hadoop2.7/examples/src/main/python/ml/decision_tree_regression_example.py\n",
            "spark-2.4.5-bin-hadoop2.7/examples/src/main/python/ml/decision_tree_classification_example.py\n",
            "spark-2.4.5-bin-hadoop2.7/examples/src/main/python/ml/dct_example.py\n",
            "spark-2.4.5-bin-hadoop2.7/examples/src/main/python/ml/dataframe_example.py\n",
            "spark-2.4.5-bin-hadoop2.7/examples/src/main/python/ml/cross_validator.py\n",
            "spark-2.4.5-bin-hadoop2.7/examples/src/main/python/ml/count_vectorizer_example.py\n",
            "spark-2.4.5-bin-hadoop2.7/examples/src/main/python/ml/correlation_example.py\n",
            "spark-2.4.5-bin-hadoop2.7/examples/src/main/python/ml/chisq_selector_example.py\n",
            "spark-2.4.5-bin-hadoop2.7/examples/src/main/python/ml/chi_square_test_example.py\n",
            "spark-2.4.5-bin-hadoop2.7/examples/src/main/python/ml/bucketizer_example.py\n",
            "spark-2.4.5-bin-hadoop2.7/examples/src/main/python/ml/bucketed_random_projection_lsh_example.py\n",
            "spark-2.4.5-bin-hadoop2.7/examples/src/main/python/ml/binarizer_example.py\n",
            "spark-2.4.5-bin-hadoop2.7/examples/src/main/python/ml/als_example.py\n",
            "spark-2.4.5-bin-hadoop2.7/examples/src/main/python/ml/aft_survival_regression.py\n",
            "spark-2.4.5-bin-hadoop2.7/examples/src/main/python/logistic_regression.py\n",
            "spark-2.4.5-bin-hadoop2.7/examples/src/main/python/kmeans.py\n",
            "spark-2.4.5-bin-hadoop2.7/examples/src/main/python/avro_inputformat.py\n",
            "spark-2.4.5-bin-hadoop2.7/examples/src/main/python/als.py\n",
            "spark-2.4.5-bin-hadoop2.7/kubernetes/\n",
            "spark-2.4.5-bin-hadoop2.7/kubernetes/dockerfiles/\n",
            "spark-2.4.5-bin-hadoop2.7/kubernetes/dockerfiles/spark/\n",
            "spark-2.4.5-bin-hadoop2.7/kubernetes/dockerfiles/spark/entrypoint.sh\n",
            "spark-2.4.5-bin-hadoop2.7/kubernetes/dockerfiles/spark/Dockerfile\n",
            "spark-2.4.5-bin-hadoop2.7/kubernetes/dockerfiles/spark/bindings/\n",
            "spark-2.4.5-bin-hadoop2.7/kubernetes/dockerfiles/spark/bindings/python/\n",
            "spark-2.4.5-bin-hadoop2.7/kubernetes/dockerfiles/spark/bindings/python/Dockerfile\n",
            "spark-2.4.5-bin-hadoop2.7/kubernetes/dockerfiles/spark/bindings/R/\n",
            "spark-2.4.5-bin-hadoop2.7/kubernetes/dockerfiles/spark/bindings/R/Dockerfile\n",
            "spark-2.4.5-bin-hadoop2.7/kubernetes/tests/\n",
            "spark-2.4.5-bin-hadoop2.7/kubernetes/tests/pyfiles.py\n",
            "spark-2.4.5-bin-hadoop2.7/kubernetes/tests/worker_memory_check.py\n",
            "spark-2.4.5-bin-hadoop2.7/kubernetes/tests/py_container_checks.py\n",
            "spark-2.4.5-bin-hadoop2.7/yarn/\n",
            "spark-2.4.5-bin-hadoop2.7/yarn/spark-2.4.5-yarn-shuffle.jar\n",
            "spark-2.4.5-bin-hadoop2.7/jars/\n",
            "spark-2.4.5-bin-hadoop2.7/jars/scala-compiler-2.11.12.jar\n",
            "spark-2.4.5-bin-hadoop2.7/jars/pyrolite-4.13.jar\n",
            "spark-2.4.5-bin-hadoop2.7/jars/py4j-0.10.7.jar\n",
            "spark-2.4.5-bin-hadoop2.7/jars/protobuf-java-2.5.0.jar\n",
            "spark-2.4.5-bin-hadoop2.7/jars/parquet-jackson-1.10.1.jar\n",
            "spark-2.4.5-bin-hadoop2.7/jars/parquet-hadoop-bundle-1.6.0.jar\n",
            "spark-2.4.5-bin-hadoop2.7/jars/parquet-hadoop-1.10.1.jar\n",
            "spark-2.4.5-bin-hadoop2.7/jars/parquet-format-2.4.0.jar\n",
            "spark-2.4.5-bin-hadoop2.7/jars/parquet-encoding-1.10.1.jar\n",
            "spark-2.4.5-bin-hadoop2.7/jars/parquet-common-1.10.1.jar\n",
            "spark-2.4.5-bin-hadoop2.7/jars/parquet-column-1.10.1.jar\n",
            "spark-2.4.5-bin-hadoop2.7/jars/paranamer-2.8.jar\n",
            "spark-2.4.5-bin-hadoop2.7/jars/osgi-resource-locator-1.0.1.jar\n",
            "spark-2.4.5-bin-hadoop2.7/jars/oro-2.0.8.jar\n",
            "spark-2.4.5-bin-hadoop2.7/jars/orc-shims-1.5.5.jar\n",
            "spark-2.4.5-bin-hadoop2.7/jars/orc-mapreduce-1.5.5-nohive.jar\n",
            "spark-2.4.5-bin-hadoop2.7/jars/orc-core-1.5.5-nohive.jar\n",
            "spark-2.4.5-bin-hadoop2.7/jars/opencsv-2.3.jar\n",
            "spark-2.4.5-bin-hadoop2.7/jars/okio-1.15.0.jar\n",
            "spark-2.4.5-bin-hadoop2.7/jars/okhttp-3.12.0.jar\n",
            "spark-2.4.5-bin-hadoop2.7/jars/objenesis-2.5.1.jar\n",
            "spark-2.4.5-bin-hadoop2.7/jars/netty-all-4.1.42.Final.jar\n",
            "spark-2.4.5-bin-hadoop2.7/jars/netty-3.9.9.Final.jar\n",
            "spark-2.4.5-bin-hadoop2.7/jars/minlog-1.3.0.jar\n",
            "spark-2.4.5-bin-hadoop2.7/jars/metrics-jvm-3.1.5.jar\n",
            "spark-2.4.5-bin-hadoop2.7/jars/metrics-json-3.1.5.jar\n",
            "spark-2.4.5-bin-hadoop2.7/jars/metrics-graphite-3.1.5.jar\n",
            "spark-2.4.5-bin-hadoop2.7/jars/metrics-core-3.1.5.jar\n",
            "spark-2.4.5-bin-hadoop2.7/jars/mesos-1.4.0-shaded-protobuf.jar\n",
            "spark-2.4.5-bin-hadoop2.7/jars/macro-compat_2.11-1.1.1.jar\n",
            "spark-2.4.5-bin-hadoop2.7/jars/machinist_2.11-0.6.1.jar\n",
            "spark-2.4.5-bin-hadoop2.7/jars/lz4-java-1.4.0.jar\n",
            "spark-2.4.5-bin-hadoop2.7/jars/logging-interceptor-3.12.0.jar\n",
            "spark-2.4.5-bin-hadoop2.7/jars/zstd-jni-1.3.2-2.jar\n",
            "spark-2.4.5-bin-hadoop2.7/jars/zookeeper-3.4.6.jar\n",
            "spark-2.4.5-bin-hadoop2.7/jars/zjsonpatch-0.3.0.jar\n",
            "spark-2.4.5-bin-hadoop2.7/jars/xz-1.5.jar\n",
            "spark-2.4.5-bin-hadoop2.7/jars/xmlenc-0.52.jar\n",
            "spark-2.4.5-bin-hadoop2.7/jars/xercesImpl-2.9.1.jar\n",
            "spark-2.4.5-bin-hadoop2.7/jars/xbean-asm6-shaded-4.8.jar\n",
            "spark-2.4.5-bin-hadoop2.7/jars/validation-api-1.1.0.Final.jar\n",
            "spark-2.4.5-bin-hadoop2.7/jars/univocity-parsers-2.7.3.jar\n",
            "spark-2.4.5-bin-hadoop2.7/jars/super-csv-2.2.0.jar\n",
            "spark-2.4.5-bin-hadoop2.7/jars/stringtemplate-3.2.1.jar\n",
            "spark-2.4.5-bin-hadoop2.7/jars/stream-2.7.0.jar\n",
            "spark-2.4.5-bin-hadoop2.7/jars/stax-api-1.0.1.jar\n",
            "spark-2.4.5-bin-hadoop2.7/jars/stax-api-1.0-2.jar\n",
            "spark-2.4.5-bin-hadoop2.7/jars/spire_2.11-0.13.0.jar\n",
            "spark-2.4.5-bin-hadoop2.7/jars/spire-macros_2.11-0.13.0.jar\n",
            "spark-2.4.5-bin-hadoop2.7/jars/spark-yarn_2.11-2.4.5.jar\n",
            "spark-2.4.5-bin-hadoop2.7/jars/spark-unsafe_2.11-2.4.5.jar\n",
            "spark-2.4.5-bin-hadoop2.7/jars/spark-tags_2.11-2.4.5.jar\n",
            "spark-2.4.5-bin-hadoop2.7/jars/spark-tags_2.11-2.4.5-tests.jar\n",
            "spark-2.4.5-bin-hadoop2.7/jars/spark-streaming_2.11-2.4.5.jar\n",
            "spark-2.4.5-bin-hadoop2.7/jars/spark-sql_2.11-2.4.5.jar\n",
            "spark-2.4.5-bin-hadoop2.7/jars/spark-sketch_2.11-2.4.5.jar\n",
            "spark-2.4.5-bin-hadoop2.7/jars/spark-repl_2.11-2.4.5.jar\n",
            "spark-2.4.5-bin-hadoop2.7/jars/spark-network-shuffle_2.11-2.4.5.jar\n",
            "spark-2.4.5-bin-hadoop2.7/jars/spark-network-common_2.11-2.4.5.jar\n",
            "spark-2.4.5-bin-hadoop2.7/jars/spark-mllib_2.11-2.4.5.jar\n",
            "spark-2.4.5-bin-hadoop2.7/jars/spark-mllib-local_2.11-2.4.5.jar\n",
            "spark-2.4.5-bin-hadoop2.7/jars/spark-mesos_2.11-2.4.5.jar\n",
            "spark-2.4.5-bin-hadoop2.7/jars/spark-launcher_2.11-2.4.5.jar\n",
            "spark-2.4.5-bin-hadoop2.7/jars/spark-kvstore_2.11-2.4.5.jar\n",
            "spark-2.4.5-bin-hadoop2.7/jars/spark-kubernetes_2.11-2.4.5.jar\n",
            "spark-2.4.5-bin-hadoop2.7/jars/spark-hive_2.11-2.4.5.jar\n",
            "spark-2.4.5-bin-hadoop2.7/jars/spark-hive-thriftserver_2.11-2.4.5.jar\n",
            "spark-2.4.5-bin-hadoop2.7/jars/spark-graphx_2.11-2.4.5.jar\n",
            "spark-2.4.5-bin-hadoop2.7/jars/spark-core_2.11-2.4.5.jar\n",
            "spark-2.4.5-bin-hadoop2.7/jars/spark-catalyst_2.11-2.4.5.jar\n",
            "spark-2.4.5-bin-hadoop2.7/jars/snappy-java-1.1.7.3.jar\n",
            "spark-2.4.5-bin-hadoop2.7/jars/snappy-0.2.jar\n",
            "spark-2.4.5-bin-hadoop2.7/jars/snakeyaml-1.15.jar\n",
            "spark-2.4.5-bin-hadoop2.7/jars/slf4j-log4j12-1.7.16.jar\n",
            "spark-2.4.5-bin-hadoop2.7/jars/slf4j-api-1.7.16.jar\n",
            "spark-2.4.5-bin-hadoop2.7/jars/shims-0.7.45.jar\n",
            "spark-2.4.5-bin-hadoop2.7/jars/shapeless_2.11-2.3.2.jar\n",
            "spark-2.4.5-bin-hadoop2.7/jars/scala-xml_2.11-1.0.5.jar\n",
            "spark-2.4.5-bin-hadoop2.7/jars/scala-reflect-2.11.12.jar\n",
            "spark-2.4.5-bin-hadoop2.7/jars/scala-parser-combinators_2.11-1.1.0.jar\n",
            "spark-2.4.5-bin-hadoop2.7/jars/scala-library-2.11.12.jar\n",
            "spark-2.4.5-bin-hadoop2.7/jars/log4j-1.2.17.jar\n",
            "spark-2.4.5-bin-hadoop2.7/jars/libthrift-0.9.3.jar\n",
            "spark-2.4.5-bin-hadoop2.7/jars/libfb303-0.9.3.jar\n",
            "spark-2.4.5-bin-hadoop2.7/jars/leveldbjni-all-1.8.jar\n",
            "spark-2.4.5-bin-hadoop2.7/jars/kubernetes-model-common-4.6.1.jar\n",
            "spark-2.4.5-bin-hadoop2.7/jars/kubernetes-model-4.6.1.jar\n",
            "spark-2.4.5-bin-hadoop2.7/jars/kubernetes-client-4.6.1.jar\n",
            "spark-2.4.5-bin-hadoop2.7/jars/kryo-shaded-4.0.2.jar\n",
            "spark-2.4.5-bin-hadoop2.7/jars/jul-to-slf4j-1.7.16.jar\n",
            "spark-2.4.5-bin-hadoop2.7/jars/jtransforms-2.4.0.jar\n",
            "spark-2.4.5-bin-hadoop2.7/jars/jta-1.1.jar\n",
            "spark-2.4.5-bin-hadoop2.7/jars/jsr305-1.3.9.jar\n",
            "spark-2.4.5-bin-hadoop2.7/jars/jsp-api-2.1.jar\n",
            "spark-2.4.5-bin-hadoop2.7/jars/json4s-scalap_2.11-3.5.3.jar\n",
            "spark-2.4.5-bin-hadoop2.7/jars/json4s-jackson_2.11-3.5.3.jar\n",
            "spark-2.4.5-bin-hadoop2.7/jars/json4s-core_2.11-3.5.3.jar\n",
            "spark-2.4.5-bin-hadoop2.7/jars/json4s-ast_2.11-3.5.3.jar\n",
            "spark-2.4.5-bin-hadoop2.7/jars/jpam-1.1.jar\n",
            "spark-2.4.5-bin-hadoop2.7/jars/jodd-core-3.5.2.jar\n",
            "spark-2.4.5-bin-hadoop2.7/jars/joda-time-2.9.3.jar\n",
            "spark-2.4.5-bin-hadoop2.7/jars/jline-2.14.6.jar\n",
            "spark-2.4.5-bin-hadoop2.7/jars/jetty-util-6.1.26.jar\n",
            "spark-2.4.5-bin-hadoop2.7/jars/jetty-6.1.26.jar\n",
            "spark-2.4.5-bin-hadoop2.7/jars/jersey-server-2.22.2.jar\n",
            "spark-2.4.5-bin-hadoop2.7/jars/jersey-media-jaxb-2.22.2.jar\n",
            "spark-2.4.5-bin-hadoop2.7/jars/jersey-guava-2.22.2.jar\n",
            "spark-2.4.5-bin-hadoop2.7/jars/jersey-container-servlet-core-2.22.2.jar\n",
            "spark-2.4.5-bin-hadoop2.7/jars/jersey-container-servlet-2.22.2.jar\n",
            "spark-2.4.5-bin-hadoop2.7/jars/jersey-common-2.22.2.jar\n",
            "spark-2.4.5-bin-hadoop2.7/jars/jersey-client-2.22.2.jar\n",
            "spark-2.4.5-bin-hadoop2.7/jars/jdo-api-3.0.1.jar\n",
            "spark-2.4.5-bin-hadoop2.7/jars/jcl-over-slf4j-1.7.16.jar\n",
            "spark-2.4.5-bin-hadoop2.7/jars/jaxb-api-2.2.2.jar\n",
            "spark-2.4.5-bin-hadoop2.7/jars/javolution-5.5.1.jar\n",
            "spark-2.4.5-bin-hadoop2.7/jars/javax.ws.rs-api-2.0.1.jar\n",
            "spark-2.4.5-bin-hadoop2.7/jars/javax.servlet-api-3.1.0.jar\n",
            "spark-2.4.5-bin-hadoop2.7/jars/javax.inject-2.4.0-b34.jar\n",
            "spark-2.4.5-bin-hadoop2.7/jars/javax.inject-1.jar\n",
            "spark-2.4.5-bin-hadoop2.7/jars/javax.annotation-api-1.2.jar\n",
            "spark-2.4.5-bin-hadoop2.7/jars/javassist-3.18.1-GA.jar\n",
            "spark-2.4.5-bin-hadoop2.7/jars/janino-3.0.9.jar\n",
            "spark-2.4.5-bin-hadoop2.7/jars/jackson-xc-1.9.13.jar\n",
            "spark-2.4.5-bin-hadoop2.7/jars/jackson-module-scala_2.11-2.6.7.1.jar\n",
            "spark-2.4.5-bin-hadoop2.7/jars/jackson-module-paranamer-2.7.9.jar\n",
            "spark-2.4.5-bin-hadoop2.7/jars/jackson-module-jaxb-annotations-2.6.7.jar\n",
            "spark-2.4.5-bin-hadoop2.7/jars/jackson-mapper-asl-1.9.13.jar\n",
            "spark-2.4.5-bin-hadoop2.7/jars/jackson-jaxrs-1.9.13.jar\n",
            "spark-2.4.5-bin-hadoop2.7/jars/jackson-dataformat-yaml-2.6.7.jar\n",
            "spark-2.4.5-bin-hadoop2.7/jars/jackson-databind-2.6.7.3.jar\n",
            "spark-2.4.5-bin-hadoop2.7/jars/jackson-core-asl-1.9.13.jar\n",
            "spark-2.4.5-bin-hadoop2.7/jars/jackson-core-2.6.7.jar\n",
            "spark-2.4.5-bin-hadoop2.7/jars/jackson-annotations-2.6.7.jar\n",
            "spark-2.4.5-bin-hadoop2.7/jars/ivy-2.4.0.jar\n",
            "spark-2.4.5-bin-hadoop2.7/jars/httpcore-4.4.10.jar\n",
            "spark-2.4.5-bin-hadoop2.7/jars/httpclient-4.5.6.jar\n",
            "spark-2.4.5-bin-hadoop2.7/jars/htrace-core-3.1.0-incubating.jar\n",
            "spark-2.4.5-bin-hadoop2.7/jars/hppc-0.7.2.jar\n",
            "spark-2.4.5-bin-hadoop2.7/jars/hk2-utils-2.4.0-b34.jar\n",
            "spark-2.4.5-bin-hadoop2.7/jars/hk2-locator-2.4.0-b34.jar\n",
            "spark-2.4.5-bin-hadoop2.7/jars/hk2-api-2.4.0-b34.jar\n",
            "spark-2.4.5-bin-hadoop2.7/jars/hive-metastore-1.2.1.spark2.jar\n",
            "spark-2.4.5-bin-hadoop2.7/jars/hive-jdbc-1.2.1.spark2.jar\n",
            "spark-2.4.5-bin-hadoop2.7/jars/hive-exec-1.2.1.spark2.jar\n",
            "spark-2.4.5-bin-hadoop2.7/jars/hive-cli-1.2.1.spark2.jar\n",
            "spark-2.4.5-bin-hadoop2.7/jars/hive-beeline-1.2.1.spark2.jar\n",
            "spark-2.4.5-bin-hadoop2.7/jars/hadoop-yarn-server-web-proxy-2.7.3.jar\n",
            "spark-2.4.5-bin-hadoop2.7/jars/hadoop-yarn-server-common-2.7.3.jar\n",
            "spark-2.4.5-bin-hadoop2.7/jars/hadoop-yarn-common-2.7.3.jar\n",
            "spark-2.4.5-bin-hadoop2.7/jars/hadoop-yarn-client-2.7.3.jar\n",
            "spark-2.4.5-bin-hadoop2.7/jars/hadoop-yarn-api-2.7.3.jar\n",
            "spark-2.4.5-bin-hadoop2.7/jars/hadoop-mapreduce-client-shuffle-2.7.3.jar\n",
            "spark-2.4.5-bin-hadoop2.7/jars/hadoop-mapreduce-client-jobclient-2.7.3.jar\n",
            "spark-2.4.5-bin-hadoop2.7/jars/hadoop-mapreduce-client-core-2.7.3.jar\n",
            "spark-2.4.5-bin-hadoop2.7/jars/hadoop-mapreduce-client-common-2.7.3.jar\n",
            "spark-2.4.5-bin-hadoop2.7/jars/hadoop-mapreduce-client-app-2.7.3.jar\n",
            "spark-2.4.5-bin-hadoop2.7/jars/hadoop-hdfs-2.7.3.jar\n",
            "spark-2.4.5-bin-hadoop2.7/jars/hadoop-common-2.7.3.jar\n",
            "spark-2.4.5-bin-hadoop2.7/jars/hadoop-client-2.7.3.jar\n",
            "spark-2.4.5-bin-hadoop2.7/jars/hadoop-auth-2.7.3.jar\n",
            "spark-2.4.5-bin-hadoop2.7/jars/hadoop-annotations-2.7.3.jar\n",
            "spark-2.4.5-bin-hadoop2.7/jars/guice-servlet-3.0.jar\n",
            "spark-2.4.5-bin-hadoop2.7/jars/guice-3.0.jar\n",
            "spark-2.4.5-bin-hadoop2.7/jars/guava-14.0.1.jar\n",
            "spark-2.4.5-bin-hadoop2.7/jars/gson-2.2.4.jar\n",
            "spark-2.4.5-bin-hadoop2.7/jars/generex-1.0.2.jar\n",
            "spark-2.4.5-bin-hadoop2.7/jars/flatbuffers-1.2.0-3f79e055.jar\n",
            "spark-2.4.5-bin-hadoop2.7/jars/eigenbase-properties-1.1.5.jar\n",
            "spark-2.4.5-bin-hadoop2.7/jars/derby-10.12.1.1.jar\n",
            "spark-2.4.5-bin-hadoop2.7/jars/datanucleus-rdbms-3.2.9.jar\n",
            "spark-2.4.5-bin-hadoop2.7/jars/datanucleus-core-3.2.10.jar\n",
            "spark-2.4.5-bin-hadoop2.7/jars/datanucleus-api-jdo-3.2.6.jar\n",
            "spark-2.4.5-bin-hadoop2.7/jars/curator-recipes-2.7.1.jar\n",
            "spark-2.4.5-bin-hadoop2.7/jars/curator-framework-2.7.1.jar\n",
            "spark-2.4.5-bin-hadoop2.7/jars/curator-client-2.7.1.jar\n",
            "spark-2.4.5-bin-hadoop2.7/jars/core-1.1.2.jar\n",
            "spark-2.4.5-bin-hadoop2.7/jars/compress-lzf-1.0.3.jar\n",
            "spark-2.4.5-bin-hadoop2.7/jars/commons-pool-1.5.4.jar\n",
            "spark-2.4.5-bin-hadoop2.7/jars/commons-net-3.1.jar\n",
            "spark-2.4.5-bin-hadoop2.7/jars/commons-math3-3.4.1.jar\n",
            "spark-2.4.5-bin-hadoop2.7/jars/commons-logging-1.1.3.jar\n",
            "spark-2.4.5-bin-hadoop2.7/jars/commons-lang3-3.5.jar\n",
            "spark-2.4.5-bin-hadoop2.7/jars/commons-lang-2.6.jar\n",
            "spark-2.4.5-bin-hadoop2.7/jars/commons-io-2.4.jar\n",
            "spark-2.4.5-bin-hadoop2.7/jars/commons-httpclient-3.1.jar\n",
            "spark-2.4.5-bin-hadoop2.7/jars/commons-digester-1.8.jar\n",
            "spark-2.4.5-bin-hadoop2.7/jars/commons-dbcp-1.4.jar\n",
            "spark-2.4.5-bin-hadoop2.7/jars/commons-crypto-1.0.0.jar\n",
            "spark-2.4.5-bin-hadoop2.7/jars/commons-configuration-1.6.jar\n",
            "spark-2.4.5-bin-hadoop2.7/jars/commons-compress-1.8.1.jar\n",
            "spark-2.4.5-bin-hadoop2.7/jars/commons-compiler-3.0.9.jar\n",
            "spark-2.4.5-bin-hadoop2.7/jars/commons-collections-3.2.2.jar\n",
            "spark-2.4.5-bin-hadoop2.7/jars/commons-codec-1.10.jar\n",
            "spark-2.4.5-bin-hadoop2.7/jars/commons-cli-1.2.jar\n",
            "spark-2.4.5-bin-hadoop2.7/jars/commons-beanutils-1.9.4.jar\n",
            "spark-2.4.5-bin-hadoop2.7/jars/chill_2.11-0.9.3.jar\n",
            "spark-2.4.5-bin-hadoop2.7/jars/chill-java-0.9.3.jar\n",
            "spark-2.4.5-bin-hadoop2.7/jars/calcite-linq4j-1.2.0-incubating.jar\n",
            "spark-2.4.5-bin-hadoop2.7/jars/calcite-core-1.2.0-incubating.jar\n",
            "spark-2.4.5-bin-hadoop2.7/jars/calcite-avatica-1.2.0-incubating.jar\n",
            "spark-2.4.5-bin-hadoop2.7/jars/breeze_2.11-0.13.2.jar\n",
            "spark-2.4.5-bin-hadoop2.7/jars/breeze-macros_2.11-0.13.2.jar\n",
            "spark-2.4.5-bin-hadoop2.7/jars/bonecp-0.8.0.RELEASE.jar\n",
            "spark-2.4.5-bin-hadoop2.7/jars/avro-mapred-1.8.2-hadoop2.jar\n",
            "spark-2.4.5-bin-hadoop2.7/jars/avro-ipc-1.8.2.jar\n",
            "spark-2.4.5-bin-hadoop2.7/jars/avro-1.8.2.jar\n",
            "spark-2.4.5-bin-hadoop2.7/jars/automaton-1.11-8.jar\n",
            "spark-2.4.5-bin-hadoop2.7/jars/arrow-vector-0.10.0.jar\n",
            "spark-2.4.5-bin-hadoop2.7/jars/arrow-memory-0.10.0.jar\n",
            "spark-2.4.5-bin-hadoop2.7/jars/arrow-format-0.10.0.jar\n",
            "spark-2.4.5-bin-hadoop2.7/jars/arpack_combined_all-0.1.jar\n",
            "spark-2.4.5-bin-hadoop2.7/jars/api-util-1.0.0-M20.jar\n",
            "spark-2.4.5-bin-hadoop2.7/jars/api-asn1-api-1.0.0-M20.jar\n",
            "spark-2.4.5-bin-hadoop2.7/jars/apacheds-kerberos-codec-2.0.0-M15.jar\n",
            "spark-2.4.5-bin-hadoop2.7/jars/apacheds-i18n-2.0.0-M15.jar\n",
            "spark-2.4.5-bin-hadoop2.7/jars/apache-log4j-extras-1.2.17.jar\n",
            "spark-2.4.5-bin-hadoop2.7/jars/aopalliance-repackaged-2.4.0-b34.jar\n",
            "spark-2.4.5-bin-hadoop2.7/jars/aopalliance-1.0.jar\n",
            "spark-2.4.5-bin-hadoop2.7/jars/antlr4-runtime-4.7.jar\n",
            "spark-2.4.5-bin-hadoop2.7/jars/antlr-runtime-3.4.jar\n",
            "spark-2.4.5-bin-hadoop2.7/jars/antlr-2.7.7.jar\n",
            "spark-2.4.5-bin-hadoop2.7/jars/aircompressor-0.10.jar\n",
            "spark-2.4.5-bin-hadoop2.7/jars/activation-1.1.1.jar\n",
            "spark-2.4.5-bin-hadoop2.7/jars/ST4-4.0.4.jar\n",
            "spark-2.4.5-bin-hadoop2.7/jars/RoaringBitmap-0.7.45.jar\n",
            "spark-2.4.5-bin-hadoop2.7/jars/JavaEWAH-0.3.2.jar\n",
            "spark-2.4.5-bin-hadoop2.7/RELEASE\n",
            "spark-2.4.5-bin-hadoop2.7/R/\n",
            "spark-2.4.5-bin-hadoop2.7/R/lib/\n",
            "spark-2.4.5-bin-hadoop2.7/R/lib/sparkr.zip\n",
            "spark-2.4.5-bin-hadoop2.7/R/lib/SparkR/\n",
            "spark-2.4.5-bin-hadoop2.7/R/lib/SparkR/INDEX\n",
            "spark-2.4.5-bin-hadoop2.7/R/lib/SparkR/html/\n",
            "spark-2.4.5-bin-hadoop2.7/R/lib/SparkR/html/R.css\n",
            "spark-2.4.5-bin-hadoop2.7/R/lib/SparkR/html/00Index.html\n",
            "spark-2.4.5-bin-hadoop2.7/R/lib/SparkR/help/\n",
            "spark-2.4.5-bin-hadoop2.7/R/lib/SparkR/help/aliases.rds\n",
            "spark-2.4.5-bin-hadoop2.7/R/lib/SparkR/help/AnIndex\n",
            "spark-2.4.5-bin-hadoop2.7/R/lib/SparkR/help/SparkR.rdx\n",
            "spark-2.4.5-bin-hadoop2.7/R/lib/SparkR/help/SparkR.rdb\n",
            "spark-2.4.5-bin-hadoop2.7/R/lib/SparkR/help/paths.rds\n",
            "spark-2.4.5-bin-hadoop2.7/R/lib/SparkR/worker/\n",
            "spark-2.4.5-bin-hadoop2.7/R/lib/SparkR/worker/worker.R\n",
            "spark-2.4.5-bin-hadoop2.7/R/lib/SparkR/worker/daemon.R\n",
            "spark-2.4.5-bin-hadoop2.7/R/lib/SparkR/tests/\n",
            "spark-2.4.5-bin-hadoop2.7/R/lib/SparkR/tests/testthat/\n",
            "spark-2.4.5-bin-hadoop2.7/R/lib/SparkR/tests/testthat/test_basic.R\n",
            "spark-2.4.5-bin-hadoop2.7/R/lib/SparkR/profile/\n",
            "spark-2.4.5-bin-hadoop2.7/R/lib/SparkR/profile/shell.R\n",
            "spark-2.4.5-bin-hadoop2.7/R/lib/SparkR/profile/general.R\n",
            "spark-2.4.5-bin-hadoop2.7/R/lib/SparkR/R/\n",
            "spark-2.4.5-bin-hadoop2.7/R/lib/SparkR/R/SparkR.rdx\n",
            "spark-2.4.5-bin-hadoop2.7/R/lib/SparkR/R/SparkR.rdb\n",
            "spark-2.4.5-bin-hadoop2.7/R/lib/SparkR/R/SparkR\n",
            "spark-2.4.5-bin-hadoop2.7/R/lib/SparkR/Meta/\n",
            "spark-2.4.5-bin-hadoop2.7/R/lib/SparkR/Meta/nsInfo.rds\n",
            "spark-2.4.5-bin-hadoop2.7/R/lib/SparkR/Meta/links.rds\n",
            "spark-2.4.5-bin-hadoop2.7/R/lib/SparkR/Meta/hsearch.rds\n",
            "spark-2.4.5-bin-hadoop2.7/R/lib/SparkR/Meta/Rd.rds\n",
            "spark-2.4.5-bin-hadoop2.7/R/lib/SparkR/Meta/features.rds\n",
            "spark-2.4.5-bin-hadoop2.7/R/lib/SparkR/Meta/package.rds\n",
            "spark-2.4.5-bin-hadoop2.7/R/lib/SparkR/DESCRIPTION\n",
            "spark-2.4.5-bin-hadoop2.7/R/lib/SparkR/NAMESPACE\n",
            "spark-2.4.5-bin-hadoop2.7/sbin/\n",
            "spark-2.4.5-bin-hadoop2.7/sbin/stop-shuffle-service.sh\n",
            "spark-2.4.5-bin-hadoop2.7/sbin/start-thriftserver.sh\n",
            "spark-2.4.5-bin-hadoop2.7/sbin/start-slave.sh\n",
            "spark-2.4.5-bin-hadoop2.7/sbin/start-shuffle-service.sh\n",
            "spark-2.4.5-bin-hadoop2.7/sbin/start-mesos-shuffle-service.sh\n",
            "spark-2.4.5-bin-hadoop2.7/sbin/start-master.sh\n",
            "spark-2.4.5-bin-hadoop2.7/sbin/start-history-server.sh\n",
            "spark-2.4.5-bin-hadoop2.7/sbin/spark-config.sh\n",
            "spark-2.4.5-bin-hadoop2.7/sbin/stop-thriftserver.sh\n",
            "spark-2.4.5-bin-hadoop2.7/sbin/stop-slaves.sh\n",
            "spark-2.4.5-bin-hadoop2.7/sbin/stop-slave.sh\n",
            "spark-2.4.5-bin-hadoop2.7/sbin/stop-mesos-shuffle-service.sh\n",
            "spark-2.4.5-bin-hadoop2.7/sbin/stop-mesos-dispatcher.sh\n",
            "spark-2.4.5-bin-hadoop2.7/sbin/stop-master.sh\n",
            "spark-2.4.5-bin-hadoop2.7/sbin/stop-history-server.sh\n",
            "spark-2.4.5-bin-hadoop2.7/sbin/stop-all.sh\n",
            "spark-2.4.5-bin-hadoop2.7/sbin/start-slaves.sh\n",
            "spark-2.4.5-bin-hadoop2.7/sbin/start-mesos-dispatcher.sh\n",
            "spark-2.4.5-bin-hadoop2.7/sbin/start-all.sh\n",
            "spark-2.4.5-bin-hadoop2.7/sbin/spark-daemons.sh\n",
            "spark-2.4.5-bin-hadoop2.7/sbin/spark-daemon.sh\n",
            "spark-2.4.5-bin-hadoop2.7/sbin/slaves.sh\n",
            "spark-2.4.5-bin-hadoop2.7/python/\n",
            "spark-2.4.5-bin-hadoop2.7/python/dist/\n",
            "spark-2.4.5-bin-hadoop2.7/python/pyspark.egg-info/\n",
            "spark-2.4.5-bin-hadoop2.7/python/pyspark.egg-info/SOURCES.txt\n",
            "spark-2.4.5-bin-hadoop2.7/python/pyspark.egg-info/dependency_links.txt\n",
            "spark-2.4.5-bin-hadoop2.7/python/pyspark.egg-info/top_level.txt\n",
            "spark-2.4.5-bin-hadoop2.7/python/pyspark.egg-info/PKG-INFO\n",
            "spark-2.4.5-bin-hadoop2.7/python/pyspark.egg-info/requires.txt\n",
            "spark-2.4.5-bin-hadoop2.7/python/setup.py\n",
            "spark-2.4.5-bin-hadoop2.7/python/run-tests.py\n",
            "spark-2.4.5-bin-hadoop2.7/python/run-tests-with-coverage\n",
            "spark-2.4.5-bin-hadoop2.7/python/run-tests\n",
            "spark-2.4.5-bin-hadoop2.7/python/README.md\n",
            "spark-2.4.5-bin-hadoop2.7/python/MANIFEST.in\n",
            "spark-2.4.5-bin-hadoop2.7/python/test_support/\n",
            "spark-2.4.5-bin-hadoop2.7/python/test_support/userlibrary.py\n",
            "spark-2.4.5-bin-hadoop2.7/python/test_support/userlib-0.1.zip\n",
            "spark-2.4.5-bin-hadoop2.7/python/test_support/sql/\n",
            "spark-2.4.5-bin-hadoop2.7/python/test_support/sql/text-test.txt\n",
            "spark-2.4.5-bin-hadoop2.7/python/test_support/sql/streaming/\n",
            "spark-2.4.5-bin-hadoop2.7/python/test_support/sql/streaming/text-test.txt\n",
            "spark-2.4.5-bin-hadoop2.7/python/test_support/sql/people_array_utf16le.json\n",
            "spark-2.4.5-bin-hadoop2.7/python/test_support/sql/people_array.json\n",
            "spark-2.4.5-bin-hadoop2.7/python/test_support/sql/people1.json\n",
            "spark-2.4.5-bin-hadoop2.7/python/test_support/sql/people.json\n",
            "spark-2.4.5-bin-hadoop2.7/python/test_support/sql/parquet_partitioned/\n",
            "spark-2.4.5-bin-hadoop2.7/python/test_support/sql/parquet_partitioned/year=2015/\n",
            "spark-2.4.5-bin-hadoop2.7/python/test_support/sql/parquet_partitioned/year=2015/month=9/\n",
            "spark-2.4.5-bin-hadoop2.7/python/test_support/sql/parquet_partitioned/year=2015/month=9/day=1/\n",
            "spark-2.4.5-bin-hadoop2.7/python/test_support/sql/parquet_partitioned/year=2015/month=9/day=1/part-r-00007.gz.parquet\n",
            "spark-2.4.5-bin-hadoop2.7/python/test_support/sql/parquet_partitioned/year=2015/month=9/day=1/.part-r-00007.gz.parquet.crc\n",
            "spark-2.4.5-bin-hadoop2.7/python/test_support/sql/parquet_partitioned/year=2015/month=10/\n",
            "spark-2.4.5-bin-hadoop2.7/python/test_support/sql/parquet_partitioned/year=2015/month=10/day=26/\n",
            "spark-2.4.5-bin-hadoop2.7/python/test_support/sql/parquet_partitioned/year=2015/month=10/day=26/part-r-00005.gz.parquet\n",
            "spark-2.4.5-bin-hadoop2.7/python/test_support/sql/parquet_partitioned/year=2015/month=10/day=26/.part-r-00005.gz.parquet.crc\n",
            "spark-2.4.5-bin-hadoop2.7/python/test_support/sql/parquet_partitioned/year=2015/month=10/day=25/\n",
            "spark-2.4.5-bin-hadoop2.7/python/test_support/sql/parquet_partitioned/year=2015/month=10/day=25/part-r-00004.gz.parquet\n",
            "spark-2.4.5-bin-hadoop2.7/python/test_support/sql/parquet_partitioned/year=2015/month=10/day=25/part-r-00002.gz.parquet\n",
            "spark-2.4.5-bin-hadoop2.7/python/test_support/sql/parquet_partitioned/year=2015/month=10/day=25/.part-r-00004.gz.parquet.crc\n",
            "spark-2.4.5-bin-hadoop2.7/python/test_support/sql/parquet_partitioned/year=2015/month=10/day=25/.part-r-00002.gz.parquet.crc\n",
            "spark-2.4.5-bin-hadoop2.7/python/test_support/sql/parquet_partitioned/year=2014/\n",
            "spark-2.4.5-bin-hadoop2.7/python/test_support/sql/parquet_partitioned/year=2014/month=9/\n",
            "spark-2.4.5-bin-hadoop2.7/python/test_support/sql/parquet_partitioned/year=2014/month=9/day=1/\n",
            "spark-2.4.5-bin-hadoop2.7/python/test_support/sql/parquet_partitioned/year=2014/month=9/day=1/part-r-00008.gz.parquet\n",
            "spark-2.4.5-bin-hadoop2.7/python/test_support/sql/parquet_partitioned/year=2014/month=9/day=1/.part-r-00008.gz.parquet.crc\n",
            "spark-2.4.5-bin-hadoop2.7/python/test_support/sql/parquet_partitioned/_metadata\n",
            "spark-2.4.5-bin-hadoop2.7/python/test_support/sql/parquet_partitioned/_common_metadata\n",
            "spark-2.4.5-bin-hadoop2.7/python/test_support/sql/parquet_partitioned/_SUCCESS\n",
            "spark-2.4.5-bin-hadoop2.7/python/test_support/sql/orc_partitioned/\n",
            "spark-2.4.5-bin-hadoop2.7/python/test_support/sql/orc_partitioned/b=1/\n",
            "spark-2.4.5-bin-hadoop2.7/python/test_support/sql/orc_partitioned/b=1/c=1/\n",
            "spark-2.4.5-bin-hadoop2.7/python/test_support/sql/orc_partitioned/b=1/c=1/part-r-00000-829af031-b970-49d6-ad39-30460a0be2c8.orc\n",
            "spark-2.4.5-bin-hadoop2.7/python/test_support/sql/orc_partitioned/b=1/c=1/.part-r-00000-829af031-b970-49d6-ad39-30460a0be2c8.orc.crc\n",
            "spark-2.4.5-bin-hadoop2.7/python/test_support/sql/orc_partitioned/b=0/\n",
            "spark-2.4.5-bin-hadoop2.7/python/test_support/sql/orc_partitioned/b=0/c=0/\n",
            "spark-2.4.5-bin-hadoop2.7/python/test_support/sql/orc_partitioned/b=0/c=0/part-r-00000-829af031-b970-49d6-ad39-30460a0be2c8.orc\n",
            "spark-2.4.5-bin-hadoop2.7/python/test_support/sql/orc_partitioned/b=0/c=0/.part-r-00000-829af031-b970-49d6-ad39-30460a0be2c8.orc.crc\n",
            "spark-2.4.5-bin-hadoop2.7/python/test_support/sql/orc_partitioned/_SUCCESS\n",
            "spark-2.4.5-bin-hadoop2.7/python/test_support/sql/ages_newlines.csv\n",
            "spark-2.4.5-bin-hadoop2.7/python/test_support/sql/ages.csv\n",
            "spark-2.4.5-bin-hadoop2.7/python/test_support/hello/\n",
            "spark-2.4.5-bin-hadoop2.7/python/test_support/hello/sub_hello/\n",
            "spark-2.4.5-bin-hadoop2.7/python/test_support/hello/sub_hello/sub_hello.txt\n",
            "spark-2.4.5-bin-hadoop2.7/python/test_support/hello/hello.txt\n",
            "spark-2.4.5-bin-hadoop2.7/python/test_support/SimpleHTTPServer.py\n",
            "spark-2.4.5-bin-hadoop2.7/python/test_coverage/\n",
            "spark-2.4.5-bin-hadoop2.7/python/test_coverage/sitecustomize.py\n",
            "spark-2.4.5-bin-hadoop2.7/python/test_coverage/coverage_daemon.py\n",
            "spark-2.4.5-bin-hadoop2.7/python/test_coverage/conf/\n",
            "spark-2.4.5-bin-hadoop2.7/python/test_coverage/conf/spark-defaults.conf\n",
            "spark-2.4.5-bin-hadoop2.7/python/setup.cfg\n",
            "spark-2.4.5-bin-hadoop2.7/python/pyspark/\n",
            "spark-2.4.5-bin-hadoop2.7/python/pyspark/python/\n",
            "spark-2.4.5-bin-hadoop2.7/python/pyspark/python/pyspark/\n",
            "spark-2.4.5-bin-hadoop2.7/python/pyspark/python/pyspark/shell.py\n",
            "spark-2.4.5-bin-hadoop2.7/python/pyspark/worker.py\n",
            "spark-2.4.5-bin-hadoop2.7/python/pyspark/version.py\n",
            "spark-2.4.5-bin-hadoop2.7/python/pyspark/util.py\n",
            "spark-2.4.5-bin-hadoop2.7/python/pyspark/tests.py\n",
            "spark-2.4.5-bin-hadoop2.7/python/pyspark/test_serializers.py\n",
            "spark-2.4.5-bin-hadoop2.7/python/pyspark/test_broadcast.py\n",
            "spark-2.4.5-bin-hadoop2.7/python/pyspark/taskcontext.py\n",
            "spark-2.4.5-bin-hadoop2.7/python/pyspark/storagelevel.py\n",
            "spark-2.4.5-bin-hadoop2.7/python/pyspark/shuffle.py\n",
            "spark-2.4.5-bin-hadoop2.7/python/pyspark/serializers.py\n",
            "spark-2.4.5-bin-hadoop2.7/python/pyspark/resultiterable.py\n",
            "spark-2.4.5-bin-hadoop2.7/python/pyspark/rdd.py\n",
            "spark-2.4.5-bin-hadoop2.7/python/pyspark/profiler.py\n",
            "spark-2.4.5-bin-hadoop2.7/python/pyspark/java_gateway.py\n",
            "spark-2.4.5-bin-hadoop2.7/python/pyspark/files.py\n",
            "spark-2.4.5-bin-hadoop2.7/python/pyspark/daemon.py\n",
            "spark-2.4.5-bin-hadoop2.7/python/pyspark/context.py\n",
            "spark-2.4.5-bin-hadoop2.7/python/pyspark/conf.py\n",
            "spark-2.4.5-bin-hadoop2.7/python/pyspark/cloudpickle.py\n",
            "spark-2.4.5-bin-hadoop2.7/python/pyspark/broadcast.py\n",
            "spark-2.4.5-bin-hadoop2.7/python/pyspark/accumulators.py\n",
            "spark-2.4.5-bin-hadoop2.7/python/pyspark/__init__.py\n",
            "spark-2.4.5-bin-hadoop2.7/python/pyspark/traceback_utils.py\n",
            "spark-2.4.5-bin-hadoop2.7/python/pyspark/streaming/\n",
            "spark-2.4.5-bin-hadoop2.7/python/pyspark/streaming/tests.py\n",
            "spark-2.4.5-bin-hadoop2.7/python/pyspark/streaming/kinesis.py\n",
            "spark-2.4.5-bin-hadoop2.7/python/pyspark/streaming/kafka.py\n",
            "spark-2.4.5-bin-hadoop2.7/python/pyspark/streaming/flume.py\n",
            "spark-2.4.5-bin-hadoop2.7/python/pyspark/streaming/dstream.py\n",
            "spark-2.4.5-bin-hadoop2.7/python/pyspark/streaming/context.py\n",
            "spark-2.4.5-bin-hadoop2.7/python/pyspark/streaming/util.py\n",
            "spark-2.4.5-bin-hadoop2.7/python/pyspark/streaming/listener.py\n",
            "spark-2.4.5-bin-hadoop2.7/python/pyspark/streaming/__init__.py\n",
            "spark-2.4.5-bin-hadoop2.7/python/pyspark/status.py\n",
            "spark-2.4.5-bin-hadoop2.7/python/pyspark/statcounter.py\n",
            "spark-2.4.5-bin-hadoop2.7/python/pyspark/sql/\n",
            "spark-2.4.5-bin-hadoop2.7/python/pyspark/sql/window.py\n",
            "spark-2.4.5-bin-hadoop2.7/python/pyspark/sql/utils.py\n",
            "spark-2.4.5-bin-hadoop2.7/python/pyspark/sql/udf.py\n",
            "spark-2.4.5-bin-hadoop2.7/python/pyspark/sql/types.py\n",
            "spark-2.4.5-bin-hadoop2.7/python/pyspark/sql/tests.py\n",
            "spark-2.4.5-bin-hadoop2.7/python/pyspark/sql/streaming.py\n",
            "spark-2.4.5-bin-hadoop2.7/python/pyspark/sql/session.py\n",
            "spark-2.4.5-bin-hadoop2.7/python/pyspark/sql/readwriter.py\n",
            "spark-2.4.5-bin-hadoop2.7/python/pyspark/sql/group.py\n",
            "spark-2.4.5-bin-hadoop2.7/python/pyspark/sql/functions.py\n",
            "spark-2.4.5-bin-hadoop2.7/python/pyspark/sql/dataframe.py\n",
            "spark-2.4.5-bin-hadoop2.7/python/pyspark/sql/context.py\n",
            "spark-2.4.5-bin-hadoop2.7/python/pyspark/sql/column.py\n",
            "spark-2.4.5-bin-hadoop2.7/python/pyspark/sql/catalog.py\n",
            "spark-2.4.5-bin-hadoop2.7/python/pyspark/sql/__init__.py\n",
            "spark-2.4.5-bin-hadoop2.7/python/pyspark/sql/conf.py\n",
            "spark-2.4.5-bin-hadoop2.7/python/pyspark/shell.py\n",
            "spark-2.4.5-bin-hadoop2.7/python/pyspark/rddsampler.py\n",
            "spark-2.4.5-bin-hadoop2.7/python/pyspark/mllib/\n",
            "spark-2.4.5-bin-hadoop2.7/python/pyspark/mllib/util.py\n",
            "spark-2.4.5-bin-hadoop2.7/python/pyspark/mllib/tree.py\n",
            "spark-2.4.5-bin-hadoop2.7/python/pyspark/mllib/tests.py\n",
            "spark-2.4.5-bin-hadoop2.7/python/pyspark/mllib/regression.py\n",
            "spark-2.4.5-bin-hadoop2.7/python/pyspark/mllib/recommendation.py\n",
            "spark-2.4.5-bin-hadoop2.7/python/pyspark/mllib/random.py\n",
            "spark-2.4.5-bin-hadoop2.7/python/pyspark/mllib/fpm.py\n",
            "spark-2.4.5-bin-hadoop2.7/python/pyspark/mllib/feature.py\n",
            "spark-2.4.5-bin-hadoop2.7/python/pyspark/mllib/evaluation.py\n",
            "spark-2.4.5-bin-hadoop2.7/python/pyspark/mllib/clustering.py\n",
            "spark-2.4.5-bin-hadoop2.7/python/pyspark/mllib/classification.py\n",
            "spark-2.4.5-bin-hadoop2.7/python/pyspark/mllib/stat/\n",
            "spark-2.4.5-bin-hadoop2.7/python/pyspark/mllib/stat/_statistics.py\n",
            "spark-2.4.5-bin-hadoop2.7/python/pyspark/mllib/stat/test.py\n",
            "spark-2.4.5-bin-hadoop2.7/python/pyspark/mllib/stat/distribution.py\n",
            "spark-2.4.5-bin-hadoop2.7/python/pyspark/mllib/stat/__init__.py\n",
            "spark-2.4.5-bin-hadoop2.7/python/pyspark/mllib/stat/KernelDensity.py\n",
            "spark-2.4.5-bin-hadoop2.7/python/pyspark/mllib/linalg/\n",
            "spark-2.4.5-bin-hadoop2.7/python/pyspark/mllib/linalg/distributed.py\n",
            "spark-2.4.5-bin-hadoop2.7/python/pyspark/mllib/linalg/__init__.py\n",
            "spark-2.4.5-bin-hadoop2.7/python/pyspark/mllib/common.py\n",
            "spark-2.4.5-bin-hadoop2.7/python/pyspark/mllib/__init__.py\n",
            "spark-2.4.5-bin-hadoop2.7/python/pyspark/ml/\n",
            "spark-2.4.5-bin-hadoop2.7/python/pyspark/ml/wrapper.py\n",
            "spark-2.4.5-bin-hadoop2.7/python/pyspark/ml/util.py\n",
            "spark-2.4.5-bin-hadoop2.7/python/pyspark/ml/tuning.py\n",
            "spark-2.4.5-bin-hadoop2.7/python/pyspark/ml/tests.py\n",
            "spark-2.4.5-bin-hadoop2.7/python/pyspark/ml/stat.py\n",
            "spark-2.4.5-bin-hadoop2.7/python/pyspark/ml/regression.py\n",
            "spark-2.4.5-bin-hadoop2.7/python/pyspark/ml/recommendation.py\n",
            "spark-2.4.5-bin-hadoop2.7/python/pyspark/ml/image.py\n",
            "spark-2.4.5-bin-hadoop2.7/python/pyspark/ml/fpm.py\n",
            "spark-2.4.5-bin-hadoop2.7/python/pyspark/ml/feature.py\n",
            "spark-2.4.5-bin-hadoop2.7/python/pyspark/ml/evaluation.py\n",
            "spark-2.4.5-bin-hadoop2.7/python/pyspark/ml/clustering.py\n",
            "spark-2.4.5-bin-hadoop2.7/python/pyspark/ml/classification.py\n",
            "spark-2.4.5-bin-hadoop2.7/python/pyspark/ml/base.py\n",
            "spark-2.4.5-bin-hadoop2.7/python/pyspark/ml/pipeline.py\n",
            "spark-2.4.5-bin-hadoop2.7/python/pyspark/ml/param/\n",
            "spark-2.4.5-bin-hadoop2.7/python/pyspark/ml/param/shared.py\n",
            "spark-2.4.5-bin-hadoop2.7/python/pyspark/ml/param/_shared_params_code_gen.py\n",
            "spark-2.4.5-bin-hadoop2.7/python/pyspark/ml/param/__init__.py\n",
            "spark-2.4.5-bin-hadoop2.7/python/pyspark/ml/linalg/\n",
            "spark-2.4.5-bin-hadoop2.7/python/pyspark/ml/linalg/__init__.py\n",
            "spark-2.4.5-bin-hadoop2.7/python/pyspark/ml/common.py\n",
            "spark-2.4.5-bin-hadoop2.7/python/pyspark/ml/__init__.py\n",
            "spark-2.4.5-bin-hadoop2.7/python/pyspark/join.py\n",
            "spark-2.4.5-bin-hadoop2.7/python/pyspark/heapq3.py\n",
            "spark-2.4.5-bin-hadoop2.7/python/pyspark/find_spark_home.py\n",
            "spark-2.4.5-bin-hadoop2.7/python/pyspark/_globals.py\n",
            "spark-2.4.5-bin-hadoop2.7/python/pylintrc\n",
            "spark-2.4.5-bin-hadoop2.7/python/lib/\n",
            "spark-2.4.5-bin-hadoop2.7/python/lib/pyspark.zip\n",
            "spark-2.4.5-bin-hadoop2.7/python/lib/py4j-0.10.7-src.zip\n",
            "spark-2.4.5-bin-hadoop2.7/python/lib/PY4J_LICENSE.txt\n",
            "spark-2.4.5-bin-hadoop2.7/python/docs/\n",
            "spark-2.4.5-bin-hadoop2.7/python/docs/pyspark.streaming.rst\n",
            "spark-2.4.5-bin-hadoop2.7/python/docs/pyspark.sql.rst\n",
            "spark-2.4.5-bin-hadoop2.7/python/docs/pyspark.ml.rst\n",
            "spark-2.4.5-bin-hadoop2.7/python/docs/epytext.py\n",
            "spark-2.4.5-bin-hadoop2.7/python/docs/conf.py\n",
            "spark-2.4.5-bin-hadoop2.7/python/docs/Makefile\n",
            "spark-2.4.5-bin-hadoop2.7/python/docs/pyspark.rst\n",
            "spark-2.4.5-bin-hadoop2.7/python/docs/pyspark.mllib.rst\n",
            "spark-2.4.5-bin-hadoop2.7/python/docs/make2.bat\n",
            "spark-2.4.5-bin-hadoop2.7/python/docs/make.bat\n",
            "spark-2.4.5-bin-hadoop2.7/python/docs/index.rst\n",
            "spark-2.4.5-bin-hadoop2.7/python/docs/_templates/\n",
            "spark-2.4.5-bin-hadoop2.7/python/docs/_templates/layout.html\n",
            "spark-2.4.5-bin-hadoop2.7/python/docs/_static/\n",
            "spark-2.4.5-bin-hadoop2.7/python/docs/_static/pyspark.js\n",
            "spark-2.4.5-bin-hadoop2.7/python/docs/_static/pyspark.css\n",
            "spark-2.4.5-bin-hadoop2.7/python/.gitignore\n",
            "spark-2.4.5-bin-hadoop2.7/python/.coveragerc\n",
            "spark-2.4.5-bin-hadoop2.7/bin/\n",
            "spark-2.4.5-bin-hadoop2.7/bin/spark-class\n",
            "spark-2.4.5-bin-hadoop2.7/bin/pyspark2.cmd\n",
            "spark-2.4.5-bin-hadoop2.7/bin/pyspark\n",
            "spark-2.4.5-bin-hadoop2.7/bin/load-spark-env.sh\n",
            "spark-2.4.5-bin-hadoop2.7/bin/load-spark-env.cmd\n",
            "spark-2.4.5-bin-hadoop2.7/bin/docker-image-tool.sh\n",
            "spark-2.4.5-bin-hadoop2.7/bin/sparkR2.cmd\n",
            "spark-2.4.5-bin-hadoop2.7/bin/sparkR.cmd\n",
            "spark-2.4.5-bin-hadoop2.7/bin/sparkR\n",
            "spark-2.4.5-bin-hadoop2.7/bin/spark-submit2.cmd\n",
            "spark-2.4.5-bin-hadoop2.7/bin/spark-submit.cmd\n",
            "spark-2.4.5-bin-hadoop2.7/bin/spark-submit\n",
            "spark-2.4.5-bin-hadoop2.7/bin/spark-sql2.cmd\n",
            "spark-2.4.5-bin-hadoop2.7/bin/spark-sql.cmd\n",
            "spark-2.4.5-bin-hadoop2.7/bin/spark-sql\n",
            "spark-2.4.5-bin-hadoop2.7/bin/spark-shell2.cmd\n",
            "spark-2.4.5-bin-hadoop2.7/bin/spark-shell.cmd\n",
            "spark-2.4.5-bin-hadoop2.7/bin/spark-shell\n",
            "spark-2.4.5-bin-hadoop2.7/bin/spark-class2.cmd\n",
            "spark-2.4.5-bin-hadoop2.7/bin/spark-class.cmd\n",
            "spark-2.4.5-bin-hadoop2.7/bin/run-example.cmd\n",
            "spark-2.4.5-bin-hadoop2.7/bin/run-example\n",
            "spark-2.4.5-bin-hadoop2.7/bin/pyspark.cmd\n",
            "spark-2.4.5-bin-hadoop2.7/bin/find-spark-home.cmd\n",
            "spark-2.4.5-bin-hadoop2.7/bin/find-spark-home\n",
            "spark-2.4.5-bin-hadoop2.7/bin/beeline.cmd\n",
            "spark-2.4.5-bin-hadoop2.7/bin/beeline\n",
            "spark-2.4.5-bin-hadoop2.7/README.md\n",
            "spark-2.4.5-bin-hadoop2.7/conf/\n",
            "spark-2.4.5-bin-hadoop2.7/conf/spark-env.sh.template\n",
            "spark-2.4.5-bin-hadoop2.7/conf/spark-defaults.conf.template\n",
            "spark-2.4.5-bin-hadoop2.7/conf/slaves.template\n",
            "spark-2.4.5-bin-hadoop2.7/conf/metrics.properties.template\n",
            "spark-2.4.5-bin-hadoop2.7/conf/log4j.properties.template\n",
            "spark-2.4.5-bin-hadoop2.7/conf/fairscheduler.xml.template\n",
            "spark-2.4.5-bin-hadoop2.7/conf/docker.properties.template\n",
            "spark-2.4.5-bin-hadoop2.7/data/\n",
            "spark-2.4.5-bin-hadoop2.7/data/streaming/\n",
            "spark-2.4.5-bin-hadoop2.7/data/streaming/AFINN-111.txt\n",
            "spark-2.4.5-bin-hadoop2.7/data/mllib/\n",
            "spark-2.4.5-bin-hadoop2.7/data/mllib/streaming_kmeans_data_test.txt\n",
            "spark-2.4.5-bin-hadoop2.7/data/mllib/sample_svm_data.txt\n",
            "spark-2.4.5-bin-hadoop2.7/data/mllib/sample_multiclass_classification_data.txt\n",
            "spark-2.4.5-bin-hadoop2.7/data/mllib/sample_movielens_data.txt\n",
            "spark-2.4.5-bin-hadoop2.7/data/mllib/sample_linear_regression_data.txt\n",
            "spark-2.4.5-bin-hadoop2.7/data/mllib/sample_libsvm_data.txt\n",
            "spark-2.4.5-bin-hadoop2.7/data/mllib/sample_lda_libsvm_data.txt\n",
            "spark-2.4.5-bin-hadoop2.7/data/mllib/sample_lda_data.txt\n",
            "spark-2.4.5-bin-hadoop2.7/data/mllib/sample_kmeans_data.txt\n",
            "spark-2.4.5-bin-hadoop2.7/data/mllib/sample_isotonic_regression_libsvm_data.txt\n",
            "spark-2.4.5-bin-hadoop2.7/data/mllib/sample_fpgrowth.txt\n",
            "spark-2.4.5-bin-hadoop2.7/data/mllib/sample_binary_classification_data.txt\n",
            "spark-2.4.5-bin-hadoop2.7/data/mllib/ridge-data/\n",
            "spark-2.4.5-bin-hadoop2.7/data/mllib/ridge-data/lpsa.data\n",
            "spark-2.4.5-bin-hadoop2.7/data/mllib/pic_data.txt\n",
            "spark-2.4.5-bin-hadoop2.7/data/mllib/pagerank_data.txt\n",
            "spark-2.4.5-bin-hadoop2.7/data/mllib/kmeans_data.txt\n",
            "spark-2.4.5-bin-hadoop2.7/data/mllib/iris_libsvm.txt\n",
            "spark-2.4.5-bin-hadoop2.7/data/mllib/images/\n",
            "spark-2.4.5-bin-hadoop2.7/data/mllib/images/partitioned/\n",
            "spark-2.4.5-bin-hadoop2.7/data/mllib/images/partitioned/cls=multichannel/\n",
            "spark-2.4.5-bin-hadoop2.7/data/mllib/images/partitioned/cls=multichannel/date=2018-02/\n",
            "spark-2.4.5-bin-hadoop2.7/data/mllib/images/partitioned/cls=multichannel/date=2018-02/grayscale.jpg\n",
            "spark-2.4.5-bin-hadoop2.7/data/mllib/images/partitioned/cls=multichannel/date=2018-02/chr30.4.184.jpg\n",
            "spark-2.4.5-bin-hadoop2.7/data/mllib/images/partitioned/cls=multichannel/date=2018-01/\n",
            "spark-2.4.5-bin-hadoop2.7/data/mllib/images/partitioned/cls=multichannel/date=2018-01/BGRA_alpha_60.png\n",
            "spark-2.4.5-bin-hadoop2.7/data/mllib/images/partitioned/cls=multichannel/date=2018-01/BGRA.png\n",
            "spark-2.4.5-bin-hadoop2.7/data/mllib/images/partitioned/cls=kittens/\n",
            "spark-2.4.5-bin-hadoop2.7/data/mllib/images/partitioned/cls=kittens/date=2018-02/\n",
            "spark-2.4.5-bin-hadoop2.7/data/mllib/images/partitioned/cls=kittens/date=2018-02/DP802813.jpg\n",
            "spark-2.4.5-bin-hadoop2.7/data/mllib/images/partitioned/cls=kittens/date=2018-02/DP153539.jpg\n",
            "spark-2.4.5-bin-hadoop2.7/data/mllib/images/partitioned/cls=kittens/date=2018-02/54893.jpg\n",
            "spark-2.4.5-bin-hadoop2.7/data/mllib/images/partitioned/cls=kittens/date=2018-01/\n",
            "spark-2.4.5-bin-hadoop2.7/data/mllib/images/partitioned/cls=kittens/date=2018-01/not-image.txt\n",
            "spark-2.4.5-bin-hadoop2.7/data/mllib/images/partitioned/cls=kittens/date=2018-01/29.5.a_b_EGDP022204.jpg\n",
            "spark-2.4.5-bin-hadoop2.7/data/mllib/images/origin/\n",
            "spark-2.4.5-bin-hadoop2.7/data/mllib/images/origin/multi-channel/\n",
            "spark-2.4.5-bin-hadoop2.7/data/mllib/images/origin/multi-channel/grayscale.jpg\n",
            "spark-2.4.5-bin-hadoop2.7/data/mllib/images/origin/multi-channel/chr30.4.184.jpg\n",
            "spark-2.4.5-bin-hadoop2.7/data/mllib/images/origin/multi-channel/BGRA_alpha_60.png\n",
            "spark-2.4.5-bin-hadoop2.7/data/mllib/images/origin/multi-channel/BGRA.png\n",
            "spark-2.4.5-bin-hadoop2.7/data/mllib/images/origin/license.txt\n",
            "spark-2.4.5-bin-hadoop2.7/data/mllib/images/origin/kittens/\n",
            "spark-2.4.5-bin-hadoop2.7/data/mllib/images/origin/kittens/not-image.txt\n",
            "spark-2.4.5-bin-hadoop2.7/data/mllib/images/origin/kittens/DP802813.jpg\n",
            "spark-2.4.5-bin-hadoop2.7/data/mllib/images/origin/kittens/DP153539.jpg\n",
            "spark-2.4.5-bin-hadoop2.7/data/mllib/images/origin/kittens/54893.jpg\n",
            "spark-2.4.5-bin-hadoop2.7/data/mllib/images/origin/kittens/29.5.a_b_EGDP022204.jpg\n",
            "spark-2.4.5-bin-hadoop2.7/data/mllib/images/license.txt\n",
            "spark-2.4.5-bin-hadoop2.7/data/mllib/gmm_data.txt\n",
            "spark-2.4.5-bin-hadoop2.7/data/mllib/als/\n",
            "spark-2.4.5-bin-hadoop2.7/data/mllib/als/test.data\n",
            "spark-2.4.5-bin-hadoop2.7/data/mllib/als/sample_movielens_ratings.txt\n",
            "spark-2.4.5-bin-hadoop2.7/data/graphx/\n",
            "spark-2.4.5-bin-hadoop2.7/data/graphx/users.txt\n",
            "spark-2.4.5-bin-hadoop2.7/data/graphx/followers.txt\n",
            "spark-2.4.5-bin-hadoop2.7/NOTICE\n"
          ],
          "name": "stdout"
        }
      ]
    },
    {
      "cell_type": "code",
      "metadata": {
        "id": "v1qQxeyv7MEY",
        "colab_type": "code",
        "outputId": "66541f33-0694-4b42-c5d5-d6cac170e45a",
        "colab": {
          "base_uri": "https://localhost:8080/",
          "height": 51
        }
      },
      "source": [
        "!ls"
      ],
      "execution_count": 23,
      "outputs": [
        {
          "output_type": "stream",
          "text": [
            "retailstore.csv  spark-2.4.5-bin-hadoop2.7\n",
            "sample_data\t spark-2.4.5-bin-hadoop2.7.tgz\n"
          ],
          "name": "stdout"
        }
      ]
    },
    {
      "cell_type": "code",
      "metadata": {
        "id": "VL-ndJPz7MBm",
        "colab_type": "code",
        "colab": {}
      },
      "source": [
        "!pip install -q findspark"
      ],
      "execution_count": 0,
      "outputs": []
    },
    {
      "cell_type": "code",
      "metadata": {
        "id": "uO_QgRdP9-UN",
        "colab_type": "code",
        "outputId": "9a459d5f-14ea-4a30-a0ac-037b12653dfb",
        "colab": {
          "base_uri": "https://localhost:8080/",
          "height": 51
        }
      },
      "source": [
        "!ls\n"
      ],
      "execution_count": 25,
      "outputs": [
        {
          "output_type": "stream",
          "text": [
            "retailstore.csv  spark-2.4.5-bin-hadoop2.7\n",
            "sample_data\t spark-2.4.5-bin-hadoop2.7.tgz\n"
          ],
          "name": "stdout"
        }
      ]
    },
    {
      "cell_type": "code",
      "metadata": {
        "id": "RaHD9QCg-JN1",
        "colab_type": "code",
        "colab": {}
      },
      "source": [
        "import os\n",
        "os.environ[\"JAVA_HOME\"]=\"/usr/lib/jvm/java-8-openjdk-amd64\"\n",
        "os.environ[\"SPARK_HOME\"]=\"/content/spark-2.4.5-bin-hadoop2.7\""
      ],
      "execution_count": 0,
      "outputs": []
    },
    {
      "cell_type": "code",
      "metadata": {
        "id": "0x-ts4K6-JLx",
        "colab_type": "code",
        "colab": {}
      },
      "source": [
        "import findspark\n",
        "findspark.init()\n",
        "from pyspark.sql import SparkSession\n",
        "spark=SparkSession.builder.master(\"local[*]\").getOrCreate()"
      ],
      "execution_count": 0,
      "outputs": []
    },
    {
      "cell_type": "code",
      "metadata": {
        "id": "LVQiLAAE-JIp",
        "colab_type": "code",
        "outputId": "5ad9f7c0-4643-4aeb-e797-8f23571689bd",
        "colab": {
          "base_uri": "https://localhost:8080/",
          "height": 170
        }
      },
      "source": [
        "df=spark.createDataFrame([{\"Google\":\"Colab\",\"Spark\":\"Scala\"},{\"Google\":\"Dataproc\",\"Spark\":\"Python\"}])\n",
        "\n",
        "df.show()"
      ],
      "execution_count": 28,
      "outputs": [
        {
          "output_type": "stream",
          "text": [
            "/content/spark-2.4.5-bin-hadoop2.7/python/pyspark/sql/session.py:346: UserWarning: inferring schema from dict is deprecated,please use pyspark.sql.Row instead\n",
            "  warnings.warn(\"inferring schema from dict is deprecated,\"\n"
          ],
          "name": "stderr"
        },
        {
          "output_type": "stream",
          "text": [
            "+--------+------+\n",
            "|  Google| Spark|\n",
            "+--------+------+\n",
            "|   Colab| Scala|\n",
            "|Dataproc|Python|\n",
            "+--------+------+\n",
            "\n"
          ],
          "name": "stdout"
        }
      ]
    },
    {
      "cell_type": "code",
      "metadata": {
        "id": "3ZUBlEz9-JD5",
        "colab_type": "code",
        "outputId": "80b88018-7f60-44ea-ec0b-7e980fc9690b",
        "colab": {
          "base_uri": "https://localhost:8080/",
          "height": 224
        }
      },
      "source": [
        "!wget https://raw.githubusercontent.com/futurexskill/bidata/master/retailstore.csv"
      ],
      "execution_count": 0,
      "outputs": [
        {
          "output_type": "stream",
          "text": [
            "--2020-02-25 02:14:27--  https://raw.githubusercontent.com/futurexskill/bidata/master/retailstore.csv\n",
            "Resolving raw.githubusercontent.com (raw.githubusercontent.com)... 151.101.0.133, 151.101.64.133, 151.101.128.133, ...\n",
            "Connecting to raw.githubusercontent.com (raw.githubusercontent.com)|151.101.0.133|:443... connected.\n",
            "HTTP request sent, awaiting response... 200 OK\n",
            "Length: 279 [text/plain]\n",
            "Saving to: ‘retailstore.csv’\n",
            "\n",
            "\rretailstore.csv       0%[                    ]       0  --.-KB/s               \rretailstore.csv     100%[===================>]     279  --.-KB/s    in 0s      \n",
            "\n",
            "2020-02-25 02:14:27 (38.6 MB/s) - ‘retailstore.csv’ saved [279/279]\n",
            "\n"
          ],
          "name": "stdout"
        }
      ]
    },
    {
      "cell_type": "code",
      "metadata": {
        "id": "MU1WfjFi_gyi",
        "colab_type": "code",
        "outputId": "846bda6b-6c9a-4863-996c-119cb378c868",
        "colab": {
          "base_uri": "https://localhost:8080/",
          "height": 34
        }
      },
      "source": [
        "!ls"
      ],
      "execution_count": 0,
      "outputs": [
        {
          "output_type": "stream",
          "text": [
            "retailstore.csv  sample_data\n"
          ],
          "name": "stdout"
        }
      ]
    },
    {
      "cell_type": "markdown",
      "metadata": {
        "id": "A5NBIsqCLlHP",
        "colab_type": "text"
      },
      "source": [
        "Import SparkContext from pyspark"
      ]
    },
    {
      "cell_type": "code",
      "metadata": {
        "id": "OAsmgCX-_hEE",
        "colab_type": "code",
        "colab": {}
      },
      "source": [
        "from pyspark import SparkContext"
      ],
      "execution_count": 0,
      "outputs": []
    },
    {
      "cell_type": "markdown",
      "metadata": {
        "id": "QJ0SGfm3NV7A",
        "colab_type": "text"
      },
      "source": [
        "Create Sparkcontext from spark"
      ]
    },
    {
      "cell_type": "code",
      "metadata": {
        "id": "wMVaMUEe_hPa",
        "colab_type": "code",
        "colab": {}
      },
      "source": [
        "sc=spark.sparkContext"
      ],
      "execution_count": 0,
      "outputs": []
    },
    {
      "cell_type": "markdown",
      "metadata": {
        "id": "nr7HBRm9R3pR",
        "colab_type": "text"
      },
      "source": [
        "RDD are immutable.They cannot be modified.You can apply transformation and store the resulting  data in another RDD"
      ]
    },
    {
      "cell_type": "markdown",
      "metadata": {
        "id": "KBipcE1dNkoN",
        "colab_type": "text"
      },
      "source": [
        "Create a RDD from Python list"
      ]
    },
    {
      "cell_type": "code",
      "metadata": {
        "id": "ix8IF-lvNi5r",
        "colab_type": "code",
        "colab": {}
      },
      "source": [
        "sampleRDD=sc.parallelize([10,20,30,40,50,60])\n"
      ],
      "execution_count": 0,
      "outputs": []
    },
    {
      "cell_type": "code",
      "metadata": {
        "id": "mXV_lD9GNi-z",
        "colab_type": "code",
        "colab": {
          "base_uri": "https://localhost:8080/",
          "height": 34
        },
        "outputId": "099c8172-deb1-48f6-a57e-80beeaa36057"
      },
      "source": [
        "type(sampleRDD)"
      ],
      "execution_count": 33,
      "outputs": [
        {
          "output_type": "execute_result",
          "data": {
            "text/plain": [
              "pyspark.rdd.RDD"
            ]
          },
          "metadata": {
            "tags": []
          },
          "execution_count": 33
        }
      ]
    },
    {
      "cell_type": "markdown",
      "metadata": {
        "id": "iKvTfsNyOV0z",
        "colab_type": "text"
      },
      "source": [
        "To see elements of RDD, use collect() method\n",
        "\n"
      ]
    },
    {
      "cell_type": "code",
      "metadata": {
        "id": "wJf6dU70NjDo",
        "colab_type": "code",
        "colab": {
          "base_uri": "https://localhost:8080/",
          "height": 34
        },
        "outputId": "758f47df-89d5-43be-8277-51e65c26afd1"
      },
      "source": [
        "sampleRDD.collect()"
      ],
      "execution_count": 34,
      "outputs": [
        {
          "output_type": "execute_result",
          "data": {
            "text/plain": [
              "[10, 20, 30, 40, 50, 60]"
            ]
          },
          "metadata": {
            "tags": []
          },
          "execution_count": 34
        }
      ]
    },
    {
      "cell_type": "markdown",
      "metadata": {
        "id": "z6RQGDxAOsWZ",
        "colab_type": "text"
      },
      "source": [
        "Read the csv file into a RDD"
      ]
    },
    {
      "cell_type": "code",
      "metadata": {
        "id": "X6rSGTJfNjGu",
        "colab_type": "code",
        "colab": {}
      },
      "source": [
        "customerData=sc.textFile(\"retailstore.csv\")"
      ],
      "execution_count": 0,
      "outputs": []
    },
    {
      "cell_type": "markdown",
      "metadata": {
        "id": "gmHwYqhAPYN3",
        "colab_type": "text"
      },
      "source": [
        "Perform RRD operations"
      ]
    },
    {
      "cell_type": "code",
      "metadata": {
        "id": "2ne9zr0RNjBf",
        "colab_type": "code",
        "colab": {
          "base_uri": "https://localhost:8080/",
          "height": 204
        },
        "outputId": "6fc57dcc-9258-424b-e55f-8aee832010b3"
      },
      "source": [
        "customerData.collect()"
      ],
      "execution_count": 36,
      "outputs": [
        {
          "output_type": "execute_result",
          "data": {
            "text/plain": [
              "['Age,Salary,Gender,Country,Purchased',\n",
              " '18,20000,Male,Germany,N',\n",
              " '19,22000,Female,France,N',\n",
              " '20,24000,Female,England,N',\n",
              " '21,,Male,England,N',\n",
              " '22,50000,Male,France,Y',\n",
              " '23,35000,Female,England,N',\n",
              " '24,,Male,Germany,N',\n",
              " '25,32000,Female,France,Y',\n",
              " ',35000,Male,Germany,N',\n",
              " '27,37000,Female,France,N']"
            ]
          },
          "metadata": {
            "tags": []
          },
          "execution_count": 36
        }
      ]
    },
    {
      "cell_type": "markdown",
      "metadata": {
        "id": "wbaBHtrjQJRv",
        "colab_type": "text"
      },
      "source": [
        "Print Count"
      ]
    },
    {
      "cell_type": "code",
      "metadata": {
        "id": "Cp4zH0o5Ni8_",
        "colab_type": "code",
        "colab": {
          "base_uri": "https://localhost:8080/",
          "height": 34
        },
        "outputId": "8ac59f65-3ab4-43d5-c042-e575adaecdf4"
      },
      "source": [
        "customerData.count()"
      ],
      "execution_count": 37,
      "outputs": [
        {
          "output_type": "execute_result",
          "data": {
            "text/plain": [
              "11"
            ]
          },
          "metadata": {
            "tags": []
          },
          "execution_count": 37
        }
      ]
    },
    {
      "cell_type": "markdown",
      "metadata": {
        "id": "xzQkUYj_QRHt",
        "colab_type": "text"
      },
      "source": [
        "Print the fist row"
      ]
    },
    {
      "cell_type": "code",
      "metadata": {
        "id": "7dZQXWjYNi3E",
        "colab_type": "code",
        "colab": {
          "base_uri": "https://localhost:8080/",
          "height": 34
        },
        "outputId": "0de00e4b-72a0-42eb-ee23-419e5500c61c"
      },
      "source": [
        "customerData.first()"
      ],
      "execution_count": 38,
      "outputs": [
        {
          "output_type": "execute_result",
          "data": {
            "text/plain": [
              "'Age,Salary,Gender,Country,Purchased'"
            ]
          },
          "metadata": {
            "tags": []
          },
          "execution_count": 38
        }
      ]
    },
    {
      "cell_type": "markdown",
      "metadata": {
        "id": "IQ4w8BWgQeT1",
        "colab_type": "text"
      },
      "source": [
        "Fetch the first 3 rows"
      ]
    },
    {
      "cell_type": "code",
      "metadata": {
        "id": "6EU_LnJXQkqo",
        "colab_type": "code",
        "colab": {
          "base_uri": "https://localhost:8080/",
          "height": 68
        },
        "outputId": "74d10d92-dc5e-481d-b4b2-531c9bb1ef83"
      },
      "source": [
        "customerData.take(3)"
      ],
      "execution_count": 41,
      "outputs": [
        {
          "output_type": "execute_result",
          "data": {
            "text/plain": [
              "['Age,Salary,Gender,Country,Purchased',\n",
              " '18,20000,Male,Germany,N',\n",
              " '19,22000,Female,France,N']"
            ]
          },
          "metadata": {
            "tags": []
          },
          "execution_count": 41
        }
      ]
    },
    {
      "cell_type": "markdown",
      "metadata": {
        "id": "yN3Tlq41Q72R",
        "colab_type": "text"
      },
      "source": [
        "Print each row.Here you can not use RDD in loop directly.To display each row, need to use collect() method along with RDD.\n"
      ]
    },
    {
      "cell_type": "code",
      "metadata": {
        "id": "jEf9cTA8QkzG",
        "colab_type": "code",
        "colab": {
          "base_uri": "https://localhost:8080/",
          "height": 204
        },
        "outputId": "6f388fba-1216-4f62-b1c2-22a5a8e5f768"
      },
      "source": [
        "for line in customerData.collect():\n",
        "  print(line)"
      ],
      "execution_count": 43,
      "outputs": [
        {
          "output_type": "stream",
          "text": [
            "Age,Salary,Gender,Country,Purchased\n",
            "18,20000,Male,Germany,N\n",
            "19,22000,Female,France,N\n",
            "20,24000,Female,England,N\n",
            "21,,Male,England,N\n",
            "22,50000,Male,France,Y\n",
            "23,35000,Female,England,N\n",
            "24,,Male,Germany,N\n",
            "25,32000,Female,France,Y\n",
            ",35000,Male,Germany,N\n",
            "27,37000,Female,France,N\n"
          ],
          "name": "stdout"
        }
      ]
    },
    {
      "cell_type": "markdown",
      "metadata": {
        "id": "mcgYCgTASbEy",
        "colab_type": "text"
      },
      "source": [
        "Spark does lazy Evaluation.Lazy Evaluation means Spark will not load or transform the data unless the action is performed. Example only when you invoke the collect method, transformation will be applied."
      ]
    },
    {
      "cell_type": "markdown",
      "metadata": {
        "id": "AVps2hh9TPwm",
        "colab_type": "text"
      },
      "source": [
        "Spark Operations:\n",
        "\n",
        "1. Transformation (Produces new RDD from an existing RDD)\n",
        "2. Action-(returns the final result of RDD Computation-collect,count,take)"
      ]
    },
    {
      "cell_type": "code",
      "metadata": {
        "id": "7hdLPs3MQk2_",
        "colab_type": "code",
        "colab": {}
      },
      "source": [
        ""
      ],
      "execution_count": 0,
      "outputs": []
    },
    {
      "cell_type": "markdown",
      "metadata": {
        "id": "qo8sftOyUCmb",
        "colab_type": "text"
      },
      "source": [
        "Transformation----Map:\n",
        "\n",
        "* Map is the most basic Transformation function.It can call a function or an inline lambda expression to apply on one RDD and produce another RDD.\n",
        "* *newRDD=oldrdd.map(function)*\n",
        "* It acts on one element at a time and performs some operation.Resulting RDD will have same number of elements as the original RDD."
      ]
    },
    {
      "cell_type": "code",
      "metadata": {
        "id": "VmMaFLl2QkoI",
        "colab_type": "code",
        "colab": {}
      },
      "source": [
        ""
      ],
      "execution_count": 0,
      "outputs": []
    },
    {
      "cell_type": "markdown",
      "metadata": {
        "id": "D0gvyQCGYNgW",
        "colab_type": "text"
      },
      "source": [
        "Map: Replace \"Male\" with \"M\""
      ]
    },
    {
      "cell_type": "code",
      "metadata": {
        "id": "ffkYoVuJQklv",
        "colab_type": "code",
        "colab": {}
      },
      "source": [
        "customerData2=customerData.map(lambda x:x.replace(\"Male\",\"M\"))"
      ],
      "execution_count": 0,
      "outputs": []
    },
    {
      "cell_type": "code",
      "metadata": {
        "id": "cYjG10uDQkiZ",
        "colab_type": "code",
        "colab": {
          "base_uri": "https://localhost:8080/",
          "height": 204
        },
        "outputId": "bf8b02ec-9557-4ad2-f727-ec62c9ed7b5a"
      },
      "source": [
        "customerData2.collect()"
      ],
      "execution_count": 45,
      "outputs": [
        {
          "output_type": "execute_result",
          "data": {
            "text/plain": [
              "['Age,Salary,Gender,Country,Purchased',\n",
              " '18,20000,M,Germany,N',\n",
              " '19,22000,Female,France,N',\n",
              " '20,24000,Female,England,N',\n",
              " '21,,M,England,N',\n",
              " '22,50000,M,France,Y',\n",
              " '23,35000,Female,England,N',\n",
              " '24,,M,Germany,N',\n",
              " '25,32000,Female,France,Y',\n",
              " ',35000,M,Germany,N',\n",
              " '27,37000,Female,France,N']"
            ]
          },
          "metadata": {
            "tags": []
          },
          "execution_count": 45
        }
      ]
    },
    {
      "cell_type": "code",
      "metadata": {
        "id": "yZ6kpQA8QkfF",
        "colab_type": "code",
        "colab": {}
      },
      "source": [
        ""
      ],
      "execution_count": 0,
      "outputs": []
    },
    {
      "cell_type": "markdown",
      "metadata": {
        "id": "CDorRBVhY8wh",
        "colab_type": "text"
      },
      "source": [
        "Python Lambda Function:\n",
        "\n",
        "* A lambda function is an anonymous function\n",
        "* A lambda function can take any number of arguments.but can only have one expression\n",
        "* ***lambda arguments: expression***\n",
        "example:   ***x=lambda a,b:a+b***\n",
        "*Without lambda\n",
        "        def calculateSum(a,b)\n",
        "             *return a+b*"
      ]
    },
    {
      "cell_type": "markdown",
      "metadata": {
        "id": "d5whC7Bron1N",
        "colab_type": "text"
      },
      "source": [
        "Transformation: Filter\n",
        "\n",
        "* It filters an RDD to select elements based on the logic in the function\n",
        "* The function is used as a condition.It can be a simple inline lambda expression or more complex function\n",
        "* *newRDD=oldRDD.filter(function)*"
      ]
    },
    {
      "cell_type": "code",
      "metadata": {
        "id": "UsBVblhnbB1t",
        "colab_type": "code",
        "colab": {}
      },
      "source": [
        "femalecustomers=customerData.filter(lambda x:'Female' in x )"
      ],
      "execution_count": 0,
      "outputs": []
    },
    {
      "cell_type": "code",
      "metadata": {
        "id": "T1uuV1TRpzF2",
        "colab_type": "code",
        "colab": {
          "base_uri": "https://localhost:8080/",
          "height": 102
        },
        "outputId": "0698a80b-bde3-4351-baa1-81e8394cec4d"
      },
      "source": [
        "femalecustomers.collect()"
      ],
      "execution_count": 49,
      "outputs": [
        {
          "output_type": "execute_result",
          "data": {
            "text/plain": [
              "['19,22000,Female,France,N',\n",
              " '20,24000,Female,England,N',\n",
              " '23,35000,Female,England,N',\n",
              " '25,32000,Female,France,Y',\n",
              " '27,37000,Female,France,N']"
            ]
          },
          "metadata": {
            "tags": []
          },
          "execution_count": 49
        }
      ]
    },
    {
      "cell_type": "markdown",
      "metadata": {
        "id": "M37nPQnfqG39",
        "colab_type": "text"
      },
      "source": [
        "Transformation : flatmap\n",
        "\n",
        "*flatmap works the same way as map but can return more elements than the original RDD\n",
        "* It is used to break up the Elements in the original RDD and create new RDD\n",
        "* ***newRDD=oldrdd.flatMap(function)***"
      ]
    },
    {
      "cell_type": "code",
      "metadata": {
        "id": "ke0O9ozdpzXE",
        "colab_type": "code",
        "colab": {}
      },
      "source": [
        "words=femalecustomers.flatMap( lambda x:x.split(\",\"))"
      ],
      "execution_count": 0,
      "outputs": []
    },
    {
      "cell_type": "code",
      "metadata": {
        "id": "SUDpRMnXpzes",
        "colab_type": "code",
        "colab": {
          "base_uri": "https://localhost:8080/",
          "height": 442
        },
        "outputId": "ed47d54a-f27f-4e5e-d001-5d4e22626d7d"
      },
      "source": [
        "words.collect()"
      ],
      "execution_count": 51,
      "outputs": [
        {
          "output_type": "execute_result",
          "data": {
            "text/plain": [
              "['19',\n",
              " '22000',\n",
              " 'Female',\n",
              " 'France',\n",
              " 'N',\n",
              " '20',\n",
              " '24000',\n",
              " 'Female',\n",
              " 'England',\n",
              " 'N',\n",
              " '23',\n",
              " '35000',\n",
              " 'Female',\n",
              " 'England',\n",
              " 'N',\n",
              " '25',\n",
              " '32000',\n",
              " 'Female',\n",
              " 'France',\n",
              " 'Y',\n",
              " '27',\n",
              " '37000',\n",
              " 'Female',\n",
              " 'France',\n",
              " 'N']"
            ]
          },
          "metadata": {
            "tags": []
          },
          "execution_count": 51
        }
      ]
    },
    {
      "cell_type": "code",
      "metadata": {
        "id": "Wu0Te_MIpzj3",
        "colab_type": "code",
        "colab": {
          "base_uri": "https://localhost:8080/",
          "height": 34
        },
        "outputId": "44c94694-7d55-46b5-97fd-a0fb51aafbb5"
      },
      "source": [
        "words.count()"
      ],
      "execution_count": 52,
      "outputs": [
        {
          "output_type": "execute_result",
          "data": {
            "text/plain": [
              "25"
            ]
          },
          "metadata": {
            "tags": []
          },
          "execution_count": 52
        }
      ]
    },
    {
      "cell_type": "markdown",
      "metadata": {
        "id": "Jeyf-vdCs1Za",
        "colab_type": "text"
      },
      "source": [
        "Transformation: Set\n",
        "* Set oprations are performed on Two RDD\n",
        "* You can perform unions or intersections\n",
        "   1.unionRDD=firstRDD.union(secondRDD)\n",
        "   2.intersectRDD=firstRDD.intersect(secondRDD)"
      ]
    },
    {
      "cell_type": "code",
      "metadata": {
        "id": "iNjhbmhqtjoh",
        "colab_type": "code",
        "colab": {}
      },
      "source": [
        "rdd1 = sc.parallelize([\"a\",\"b\",\"c\",\"d\",\"e\"])\n",
        "rdd2=sc.parallelize([\"c\",\"e\",\"k\",\"l\"])"
      ],
      "execution_count": 0,
      "outputs": []
    },
    {
      "cell_type": "code",
      "metadata": {
        "id": "pzAUlhMstjwR",
        "colab_type": "code",
        "colab": {
          "base_uri": "https://localhost:8080/",
          "height": 136
        },
        "outputId": "63d056e1-19bb-4699-c85d-364c7ef6945f"
      },
      "source": [
        "for unions in rdd1.union(rdd2).distinct().collect():\n",
        "  print(unions)"
      ],
      "execution_count": 55,
      "outputs": [
        {
          "output_type": "stream",
          "text": [
            "b\n",
            "c\n",
            "l\n",
            "a\n",
            "e\n",
            "d\n",
            "k\n"
          ],
          "name": "stdout"
        }
      ]
    },
    {
      "cell_type": "code",
      "metadata": {
        "id": "VN0cIPpjtjkZ",
        "colab_type": "code",
        "colab": {
          "base_uri": "https://localhost:8080/",
          "height": 51
        },
        "outputId": "42f46dbd-ed9d-477b-c0bd-126508840188"
      },
      "source": [
        "for intersects in rdd1.intersection(rdd2).collect():\n",
        "  print(intersects)"
      ],
      "execution_count": 58,
      "outputs": [
        {
          "output_type": "stream",
          "text": [
            "c\n",
            "e\n"
          ],
          "name": "stdout"
        }
      ]
    },
    {
      "cell_type": "markdown",
      "metadata": {
        "id": "SVhN3gKM22O9",
        "colab_type": "text"
      },
      "source": [
        "Transformation using function"
      ]
    },
    {
      "cell_type": "code",
      "metadata": {
        "id": "DEOyYEqxtjd_",
        "colab_type": "code",
        "colab": {}
      },
      "source": [
        "def transformRDD(customer):\n",
        "  words=customer.split(\",\")\n",
        "  #convert male to 0 and female to 1\n",
        "  if words[2]==\"Male\":\n",
        "       words[2]=\"0\"\n",
        "  else:\n",
        "     words[2]=\"1\"\n",
        "  #convert N to 0 and Y to 1 for the purchased value\n",
        "  if words[4] ==\"N\":\n",
        "       words[4]=\"0\"\n",
        "  else:\n",
        "      words[4]=\"1\"\n",
        "  #convert Country to upper case\n",
        "  words[3]=words[3].upper()\n",
        "  return \",\".join(words)"
      ],
      "execution_count": 0,
      "outputs": []
    },
    {
      "cell_type": "markdown",
      "metadata": {
        "id": "EcSGOJ85GQ_u",
        "colab_type": "text"
      },
      "source": [
        "Apply transformation using map\n"
      ]
    },
    {
      "cell_type": "code",
      "metadata": {
        "id": "qGdW5r4mGYeh",
        "colab_type": "code",
        "colab": {}
      },
      "source": [
        "transformedCustData=customerData.map(transformRDD)"
      ],
      "execution_count": 0,
      "outputs": []
    },
    {
      "cell_type": "code",
      "metadata": {
        "id": "yQIUfWqNGtW6",
        "colab_type": "code",
        "colab": {
          "base_uri": "https://localhost:8080/",
          "height": 204
        },
        "outputId": "470be3a8-32f5-4d15-b3ea-e92e7615fa1b"
      },
      "source": [
        "transformedCustData.collect()"
      ],
      "execution_count": 61,
      "outputs": [
        {
          "output_type": "execute_result",
          "data": {
            "text/plain": [
              "['Age,Salary,1,COUNTRY,1',\n",
              " '18,20000,0,GERMANY,0',\n",
              " '19,22000,1,FRANCE,0',\n",
              " '20,24000,1,ENGLAND,0',\n",
              " '21,,0,ENGLAND,0',\n",
              " '22,50000,0,FRANCE,1',\n",
              " '23,35000,1,ENGLAND,0',\n",
              " '24,,0,GERMANY,0',\n",
              " '25,32000,1,FRANCE,1',\n",
              " ',35000,0,GERMANY,0',\n",
              " '27,37000,1,FRANCE,0']"
            ]
          },
          "metadata": {
            "tags": []
          },
          "execution_count": 61
        }
      ]
    },
    {
      "cell_type": "markdown",
      "metadata": {
        "id": "x397M239HH53",
        "colab_type": "text"
      },
      "source": [
        "reduce()-Actions"
      ]
    },
    {
      "cell_type": "code",
      "metadata": {
        "id": "ubNYDMsZtja3",
        "colab_type": "code",
        "colab": {}
      },
      "source": [
        "sampleRDD=sc.parallelize([10,20,30,40,50])\n"
      ],
      "execution_count": 0,
      "outputs": []
    },
    {
      "cell_type": "code",
      "metadata": {
        "id": "-d8D9JActjW3",
        "colab_type": "code",
        "colab": {
          "base_uri": "https://localhost:8080/",
          "height": 34
        },
        "outputId": "f63468b6-df0b-4b11-ca1d-bec56e1cd580"
      },
      "source": [
        "sampleRDD.reduce(lambda a,b : a + b)"
      ],
      "execution_count": 64,
      "outputs": [
        {
          "output_type": "execute_result",
          "data": {
            "text/plain": [
              "150"
            ]
          },
          "metadata": {
            "tags": []
          },
          "execution_count": 64
        }
      ]
    },
    {
      "cell_type": "code",
      "metadata": {
        "id": "zYkTbvYatjSp",
        "colab_type": "code",
        "colab": {}
      },
      "source": [
        ""
      ],
      "execution_count": 0,
      "outputs": []
    },
    {
      "cell_type": "code",
      "metadata": {
        "id": "fL_o51i0tjOg",
        "colab_type": "code",
        "colab": {}
      },
      "source": [
        ""
      ],
      "execution_count": 0,
      "outputs": []
    }
  ]
}